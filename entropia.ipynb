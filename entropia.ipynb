{
 "cells": [
  {
   "cell_type": "markdown",
   "id": "5ab2f75e-4e20-4c1a-a083-3d3deb06a9f9",
   "metadata": {},
   "source": [
    "# Cálculo de Entropia"
   ]
  },
  {
   "cell_type": "markdown",
   "id": "949d7d96-a78f-46d7-95af-f6f423361f17",
   "metadata": {},
   "source": [
    "|Tipos Caracteres|Exemplos|Range|\n",
    "|----------------|--------|-----|\n",
    "|Numéricos|0, 1, 2, 3, ...|10|\n",
    "|Letras Minúsculas|a, b, c, d, ...|26|\n",
    "|Letras Maiúsculas|A, B, C, D, ...|26|\n",
    "|Símbolos Especiais|!, @, %, $, ...|32|"
   ]
  },
  {
   "cell_type": "markdown",
   "id": "076a0578-ce9e-4b91-bf44-04eed67d46ec",
   "metadata": {},
   "source": [
    "E = L × log2(R)\n",
    "\n",
    "E é a Entropia\n",
    "\n",
    "R é o Range, o número de possibilidades dos caracteres\n",
    "\n",
    "L é a quantidade de caracteres na senha (Length)\n"
   ]
  }
 ],
 "metadata": {
  "kernelspec": {
   "display_name": "Python 3 (ipykernel)",
   "language": "python",
   "name": "python3"
  },
  "language_info": {
   "codemirror_mode": {
    "name": "ipython",
    "version": 3
   },
   "file_extension": ".py",
   "mimetype": "text/x-python",
   "name": "python",
   "nbconvert_exporter": "python",
   "pygments_lexer": "ipython3",
   "version": "3.11.3"
  }
 },
 "nbformat": 4,
 "nbformat_minor": 5
}
