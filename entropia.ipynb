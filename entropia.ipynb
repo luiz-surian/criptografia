{
 "cells": [
  {
   "cell_type": "markdown",
   "id": "5ab2f75e-4e20-4c1a-a083-3d3deb06a9f9",
   "metadata": {},
   "source": [
    "# Cálculo de Entropia"
   ]
  },
  {
   "cell_type": "markdown",
   "id": "949d7d96-a78f-46d7-95af-f6f423361f17",
   "metadata": {},
   "source": [
    "|Tipos Caracteres|Exemplos|Range|\n",
    "|----------------|--------|-----|\n",
    "|Numéricos|0, 1, 2, 3, ...|10|\n",
    "|Letras Minúsculas|a, b, c, d, ...|26|\n",
    "|Letras Maiúsculas|A, B, C, D, ...|26|\n",
    "|Símbolos Especiais|!, @, %, $, ...|32|"
   ]
  },
  {
   "cell_type": "markdown",
   "id": "4b3348da-fc22-41f5-bf79-6a851287b7c9",
   "metadata": {},
   "source": [
    "$$E = L \\times \\log_2(R)$$\n",
    "\n",
    "**E** é a Entropia  \n",
    "**R** é o *Range*, o número de possibilidades dos caracteres  \n",
    "**L** é a quantidade de caracteres na senha (*Length*)  "
   ]
  },
  {
   "cell_type": "code",
   "execution_count": 1,
   "id": "f077145e-c2f1-48aa-af0b-93d15deb1bcc",
   "metadata": {},
   "outputs": [],
   "source": [
    "import math\n",
    "\n",
    "def calc_entropy(length, char_range):\n",
    "    return math.log2(char_range) * length\n",
    "\n",
    "def find_range(password):\n",
    "    char_range = 0\n",
    "    char_sets = [False, False, False, False]\n",
    "    char_nums = [10, 26, 26, 32]\n",
    "    for i in password:\n",
    "        if i.isdigit():\n",
    "            char_sets[0] = True\n",
    "        if i.islower():\n",
    "            char_sets[1] = True\n",
    "        if i.isupper():\n",
    "            char_sets[2] = True\n",
    "        if not i.isalnum() and i.isascii():\n",
    "            char_sets[3] = True\n",
    "\n",
    "    for x in range(4):\n",
    "        if char_sets[x]:\n",
    "            char_range += char_nums[x]\n",
    "\n",
    "    return char_range"
   ]
  },
  {
   "cell_type": "code",
   "execution_count": 2,
   "id": "84acdb4d-175c-495e-ab6b-72d4b2e0a514",
   "metadata": {},
   "outputs": [],
   "source": [
    "password_list = [\n",
    "    '123456',\n",
    "    'senha',\n",
    "    'qwerty',\n",
    "    'Senha',\n",
    "    'senha123',\n",
    "    'Senha123!',\n",
    "    'g7#Kp2v@qW',\n",
    "    'X$r9eNp!3QaK7@mZ2y',\n",
    "    'b@6^QzEw3#Rx9M!uGtL$1ApYfK2sVcTd',\n",
    "]"
   ]
  },
  {
   "cell_type": "code",
   "execution_count": 3,
   "id": "1282d729-fae9-42e2-89b3-fd4724928c76",
   "metadata": {},
   "outputs": [
    {
     "name": "stdout",
     "output_type": "stream",
     "text": [
      "Password, Length, Range, Entropy\n",
      "123456, 6, 10, 19.931568569324174\n",
      "senha, 5, 26, 23.50219859070546\n",
      "qwerty, 6, 26, 28.202638308846556\n",
      "Senha, 5, 52, 28.50219859070546\n",
      "senha123, 8, 36, 41.3594000115385\n",
      "Senha123!, 9, 94, 58.99129966509874\n",
      "g7#Kp2v@qW, 10, 94, 65.54588851677637\n",
      "X$r9eNp!3QaK7@mZ2y, 18, 94, 117.98259933019747\n",
      "b@6^QzEw3#Rx9M!uGtL$1ApYfK2sVcTd, 32, 94, 209.7468432536844\n"
     ]
    }
   ],
   "source": [
    "print(\"Password, Length, Range, Entropy\")\n",
    "for password in password_list:\n",
    "    length = len(password)\n",
    "    char_range = find_range(password)\n",
    "    entropy = calc_entropy(length, char_range)\n",
    "    print(f\"{password}, {length}, {char_range}, {entropy}\")"
   ]
  },
  {
   "cell_type": "code",
   "execution_count": null,
   "id": "8ec64828-70f2-43e7-95d8-5f72bb41512f",
   "metadata": {},
   "outputs": [],
   "source": []
  }
 ],
 "metadata": {
  "kernelspec": {
   "display_name": "Python 3 (ipykernel)",
   "language": "python",
   "name": "python3"
  },
  "language_info": {
   "codemirror_mode": {
    "name": "ipython",
    "version": 3
   },
   "file_extension": ".py",
   "mimetype": "text/x-python",
   "name": "python",
   "nbconvert_exporter": "python",
   "pygments_lexer": "ipython3",
   "version": "3.10.13"
  }
 },
 "nbformat": 4,
 "nbformat_minor": 5
}
