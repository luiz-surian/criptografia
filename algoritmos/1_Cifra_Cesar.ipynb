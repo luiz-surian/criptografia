{
 "cells": [
  {
   "cell_type": "markdown",
   "id": "86bf8374-b87b-4612-a2bb-99db653b1a55",
   "metadata": {},
   "source": [
    "# Cifra Cesar"
   ]
  },
  {
   "cell_type": "code",
   "execution_count": 1,
   "id": "fdddfdae-d022-4fe4-8b1a-8168d23c0121",
   "metadata": {},
   "outputs": [],
   "source": [
    "def cifra_cesar(texto, chave):\n",
    "    resultado = \"\"\n",
    "    for i in range(len(texto)):\n",
    "        letra = texto[i]\n",
    "        # Verifica se o caractere é um espaço\n",
    "        if letra == \" \":\n",
    "            resultado += \" \"\n",
    "        # Verifica se o caractere é uma letra maiúscula\n",
    "        elif (letra.isupper()):\n",
    "            resultado += chr((ord(letra) + chave-65) % 26 + 65)\n",
    "        # Verifica se o caractere é uma letra minúscula\n",
    "        else:\n",
    "            resultado += chr((ord(letra) + chave-97) % 26 + 97)\n",
    "\n",
    "    return resultado"
   ]
  },
  {
   "cell_type": "code",
   "execution_count": 2,
   "id": "2bf5d0b7-d6b0-429f-b016-c12e05ab5d1c",
   "metadata": {},
   "outputs": [
    {
     "name": "stdout",
     "output_type": "stream",
     "text": [
      "Texto Original: TECH DAY\n",
      "Texto Cifrado: JUSX TQO (Chave=16)\n"
     ]
    }
   ],
   "source": [
    "texto = \"TECH DAY\"\n",
    "chave = 16\n",
    "cifra = cifra_cesar(texto, chave)\n",
    "print(f\"Texto Original: {texto}\")\n",
    "print(f\"Texto Cifrado: {cifra} (Chave={chave})\")"
   ]
  },
  {
   "cell_type": "code",
   "execution_count": 3,
   "id": "d4eddce9-39b2-4afe-aeda-21c62fea68dd",
   "metadata": {},
   "outputs": [
    {
     "name": "stdout",
     "output_type": "stream",
     "text": [
      "Texto Original: CLARO BRASIL\n",
      "Texto Cifrado: PYNEB OENFVY (Chave=13)\n"
     ]
    }
   ],
   "source": [
    "texto = \"CLARO BRASIL\"\n",
    "chave = 13\n",
    "cifra = cifra_cesar(texto, chave)\n",
    "print(f\"Texto Original: {texto}\")\n",
    "print(f\"Texto Cifrado: {cifra} (Chave={chave})\")"
   ]
  },
  {
   "cell_type": "code",
   "execution_count": null,
   "id": "43fc91fe-3b35-4265-8daa-0d1435f5a567",
   "metadata": {},
   "outputs": [],
   "source": []
  },
  {
   "cell_type": "code",
   "execution_count": 4,
   "id": "1e613e62-eec3-4d3b-9964-cb99af8e3c05",
   "metadata": {},
   "outputs": [
    {
     "name": "stdout",
     "output_type": "stream",
     "text": [
      "Rotação | Texto\n",
      "0 | PYNEB OENFVY\n",
      "1 | QZOFC PFOGWZ\n",
      "2 | RAPGD QGPHXA\n",
      "3 | SBQHE RHQIYB\n",
      "4 | TCRIF SIRJZC\n",
      "5 | UDSJG TJSKAD\n",
      "6 | VETKH UKTLBE\n",
      "7 | WFULI VLUMCF\n",
      "8 | XGVMJ WMVNDG\n",
      "9 | YHWNK XNWOEH\n",
      "10 | ZIXOL YOXPFI\n",
      "11 | AJYPM ZPYQGJ\n",
      "12 | BKZQN AQZRHK\n",
      "13 | CLARO BRASIL\n",
      "14 | DMBSP CSBTJM\n",
      "15 | ENCTQ DTCUKN\n",
      "16 | FODUR EUDVLO\n",
      "17 | GPEVS FVEWMP\n",
      "18 | HQFWT GWFXNQ\n",
      "19 | IRGXU HXGYOR\n",
      "20 | JSHYV IYHZPS\n",
      "21 | KTIZW JZIAQT\n",
      "22 | LUJAX KAJBRU\n",
      "23 | MVKBY LBKCSV\n",
      "24 | NWLCZ MCLDTW\n",
      "25 | OXMDA NDMEUX\n"
     ]
    }
   ],
   "source": [
    "print(\"Rotação | Texto\")\n",
    "for i in range(26):\n",
    "    nova_cifra = cifra_cesar(cifra, i)\n",
    "    print(f\"{i} | {nova_cifra}\")"
   ]
  },
  {
   "cell_type": "code",
   "execution_count": 9,
   "id": "9714493a",
   "metadata": {},
   "outputs": [
    {
     "name": "stdout",
     "output_type": "stream",
     "text": [
      "Texto Original: Essa frase e um placeholder e não vale para o desafio\n",
      "Texto Cifrado: AOOWBNWOAAQILHWYADKHZANAJWKRWHALWNWKZAOWBEK\n"
     ]
    }
   ],
   "source": [
    "texto = \"Essa frase e um placeholder e não vale para o desafio\"\n",
    "chave = 22\n",
    "cifra = cifra_cesar(texto, chave)\n",
    "print(f\"Texto Original: {texto}\")\n",
    "print(f\"Texto Cifrado: {cifra.replace(' ', '').upper()}\")"
   ]
  }
 ],
 "metadata": {
  "kernelspec": {
   "display_name": "Python 3 (ipykernel)",
   "language": "python",
   "name": "python3"
  },
  "language_info": {
   "codemirror_mode": {
    "name": "ipython",
    "version": 3
   },
   "file_extension": ".py",
   "mimetype": "text/x-python",
   "name": "python",
   "nbconvert_exporter": "python",
   "pygments_lexer": "ipython3",
   "version": "3.10.13"
  }
 },
 "nbformat": 4,
 "nbformat_minor": 5
}
