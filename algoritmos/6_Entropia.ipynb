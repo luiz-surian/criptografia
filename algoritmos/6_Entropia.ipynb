{
 "cells": [
  {
   "cell_type": "markdown",
   "id": "5ab2f75e-4e20-4c1a-a083-3d3deb06a9f9",
   "metadata": {},
   "source": [
    "# Cálculo de Entropia"
   ]
  },
  {
   "cell_type": "markdown",
   "id": "949d7d96-a78f-46d7-95af-f6f423361f17",
   "metadata": {},
   "source": [
    "|Tipos Caracteres|Exemplos|Range|\n",
    "|----------------|--------|-----|\n",
    "|Numéricos|0, 1, 2, 3, ...|10|\n",
    "|Letras Minúsculas|a, b, c, d, ...|26|\n",
    "|Letras Maiúsculas|A, B, C, D, ...|26|\n",
    "|Símbolos Especiais|!, @, %, $, ...|32|"
   ]
  },
  {
   "cell_type": "markdown",
   "id": "3bd71857-70e7-4be5-8681-6a300893fb2a",
   "metadata": {},
   "source": [
    "$$E = L \\times \\log_2(R)$$\n",
    "\n",
    "**E** é a Entropia  \n",
    "**R** é a variedade, o número de possibilidades dos caracteres (*Range*)  \n",
    "**L** é a quantidade de caracteres na senha (*Length*)  "
   ]
  },
  {
   "cell_type": "code",
   "execution_count": 1,
   "id": "f077145e-c2f1-48aa-af0b-93d15deb1bcc",
   "metadata": {},
   "outputs": [],
   "source": [
    "import math\n",
    "\n",
    "# Calcula a Entropia com base na fórmula.\n",
    "def calc_entropy(length, char_range):\n",
    "    return math.log2(char_range) * length\n",
    "\n",
    "# Retorna a variedade (Range) presente na senha.\n",
    "def find_range(password):\n",
    "    char_range = 0\n",
    "    char_sets = [False, False, False, False]\n",
    "    char_nums = [10, 26, 26, 32]\n",
    "    for i in password:\n",
    "        if i.isdigit():\n",
    "            char_sets[0] = True\n",
    "        if i.islower():\n",
    "            char_sets[1] = True\n",
    "        if i.isupper():\n",
    "            char_sets[2] = True\n",
    "        if not i.isalnum() and i.isascii():\n",
    "            char_sets[3] = True\n",
    "\n",
    "    for x in range(4):\n",
    "        if char_sets[x]:\n",
    "            char_range += char_nums[x]\n",
    "\n",
    "    return char_range"
   ]
  },
  {
   "cell_type": "code",
   "execution_count": 2,
   "id": "84acdb4d-175c-495e-ab6b-72d4b2e0a514",
   "metadata": {},
   "outputs": [],
   "source": [
    "# Lista de senhas para serem calculadas.\n",
    "password_list = [\n",
    "    '123456',\n",
    "    'senha',\n",
    "    'qwerty',\n",
    "    'Senha',\n",
    "    'senha123',\n",
    "    'Senha123!',\n",
    "    'g7#Kp2v@qW',\n",
    "    'X$r9eNp!3QaK7@mZ2y',\n",
    "    'b@6^QzEw3#Rx9M!uGtL$1ApYfK2sVcTd',\n",
    "]"
   ]
  },
  {
   "cell_type": "code",
   "execution_count": 3,
   "id": "1282d729-fae9-42e2-89b3-fd4724928c76",
   "metadata": {},
   "outputs": [],
   "source": [
    "# Calcula a entropia das senha e armazena em um Array.\n",
    "data = [\n",
    "    ['Senha', 'Tamanho', 'Range', 'Cálculo', 'Entropia']\n",
    "]\n",
    "for password in password_list:\n",
    "    length = len(password)\n",
    "    char_range = find_range(password)\n",
    "    entropy = calc_entropy(length, char_range)\n",
    "    \n",
    "    data.append([\n",
    "        password, \n",
    "        f\"{length} caracteres\", \n",
    "        char_range, \n",
    "        f\"E = {length} × log2({char_range})\", \n",
    "        f\"~{entropy:.2f} bits\"\n",
    "    ])"
   ]
  },
  {
   "cell_type": "code",
   "execution_count": 4,
   "id": "df9d11a1-f61a-4754-917c-68d42694e263",
   "metadata": {},
   "outputs": [
    {
     "data": {
      "text/html": [
       "<table>\n",
       "<tbody>\n",
       "<tr><td>Senha                           </td><td>Tamanho      </td><td>Range</td><td>Cálculo          </td><td>Entropia    </td></tr>\n",
       "<tr><td>123456                          </td><td>6 caracteres </td><td>10   </td><td>E = 6 × log2(10) </td><td>~19.93 bits </td></tr>\n",
       "<tr><td>senha                           </td><td>5 caracteres </td><td>26   </td><td>E = 5 × log2(26) </td><td>~23.50 bits </td></tr>\n",
       "<tr><td>qwerty                          </td><td>6 caracteres </td><td>26   </td><td>E = 6 × log2(26) </td><td>~28.20 bits </td></tr>\n",
       "<tr><td>Senha                           </td><td>5 caracteres </td><td>52   </td><td>E = 5 × log2(52) </td><td>~28.50 bits </td></tr>\n",
       "<tr><td>senha123                        </td><td>8 caracteres </td><td>36   </td><td>E = 8 × log2(36) </td><td>~41.36 bits </td></tr>\n",
       "<tr><td>Senha123!                       </td><td>9 caracteres </td><td>94   </td><td>E = 9 × log2(94) </td><td>~58.99 bits </td></tr>\n",
       "<tr><td>g7#Kp2v@qW                      </td><td>10 caracteres</td><td>94   </td><td>E = 10 × log2(94)</td><td>~65.55 bits </td></tr>\n",
       "<tr><td>X$r9eNp!3QaK7@mZ2y              </td><td>18 caracteres</td><td>94   </td><td>E = 18 × log2(94)</td><td>~117.98 bits</td></tr>\n",
       "<tr><td>b@6^QzEw3#Rx9M!uGtL$1ApYfK2sVcTd</td><td>32 caracteres</td><td>94   </td><td>E = 32 × log2(94)</td><td>~209.75 bits</td></tr>\n",
       "</tbody>\n",
       "</table>"
      ],
      "text/plain": [
       "'<table>\\n<tbody>\\n<tr><td>Senha                           </td><td>Tamanho      </td><td>Range</td><td>Cálculo          </td><td>Entropia    </td></tr>\\n<tr><td>123456                          </td><td>6 caracteres </td><td>10   </td><td>E = 6 × log2(10) </td><td>~19.93 bits </td></tr>\\n<tr><td>senha                           </td><td>5 caracteres </td><td>26   </td><td>E = 5 × log2(26) </td><td>~23.50 bits </td></tr>\\n<tr><td>qwerty                          </td><td>6 caracteres </td><td>26   </td><td>E = 6 × log2(26) </td><td>~28.20 bits </td></tr>\\n<tr><td>Senha                           </td><td>5 caracteres </td><td>52   </td><td>E = 5 × log2(52) </td><td>~28.50 bits </td></tr>\\n<tr><td>senha123                        </td><td>8 caracteres </td><td>36   </td><td>E = 8 × log2(36) </td><td>~41.36 bits </td></tr>\\n<tr><td>Senha123!                       </td><td>9 caracteres </td><td>94   </td><td>E = 9 × log2(94) </td><td>~58.99 bits </td></tr>\\n<tr><td>g7#Kp2v@qW                      </td><td>10 caracteres</td><td>94   </td><td>E = 10 × log2(94)</td><td>~65.55 bits </td></tr>\\n<tr><td>X$r9eNp!3QaK7@mZ2y              </td><td>18 caracteres</td><td>94   </td><td>E = 18 × log2(94)</td><td>~117.98 bits</td></tr>\\n<tr><td>b@6^QzEw3#Rx9M!uGtL$1ApYfK2sVcTd</td><td>32 caracteres</td><td>94   </td><td>E = 32 × log2(94)</td><td>~209.75 bits</td></tr>\\n</tbody>\\n</table>'"
      ]
     },
     "execution_count": 4,
     "metadata": {},
     "output_type": "execute_result"
    }
   ],
   "source": [
    "# Imprime os dados como tabela.\n",
    "import tabulate\n",
    "table = tabulate.tabulate(data, tablefmt='html')\n",
    "table"
   ]
  }
 ],
 "metadata": {
  "kernelspec": {
   "display_name": "Python 3 (ipykernel)",
   "language": "python",
   "name": "python3"
  },
  "language_info": {
   "codemirror_mode": {
    "name": "ipython",
    "version": 3
   },
   "file_extension": ".py",
   "mimetype": "text/x-python",
   "name": "python",
   "nbconvert_exporter": "python",
   "pygments_lexer": "ipython3",
   "version": "3.10.13"
  }
 },
 "nbformat": 4,
 "nbformat_minor": 5
}
