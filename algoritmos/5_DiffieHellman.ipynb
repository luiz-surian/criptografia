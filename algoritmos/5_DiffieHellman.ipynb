{
 "cells": [
  {
   "cell_type": "markdown",
   "id": "c4481368-07f3-428e-b0a4-c1efa06b76b7",
   "metadata": {},
   "source": [
    "# Diffie-Hellman"
   ]
  },
  {
   "cell_type": "markdown",
   "id": "e4cc1bfb-4221-49ca-8cff-b4cafd387375",
   "metadata": {},
   "source": [
    "Método para transportar uma informação segura em um ambiente inseguro através da troca de chaves simétricas."
   ]
  },
  {
   "cell_type": "code",
   "execution_count": 1,
   "id": "938a416d-c091-4f65-a885-4364c0df5d56",
   "metadata": {},
   "outputs": [],
   "source": [
    "# Função para retornar o valor de a^b mod P\n",
    "def power(a, b, p):\n",
    "    if b == 1:\n",
    "        return a\n",
    "    else:\n",
    "        return pow(a, b) % p"
   ]
  },
  {
   "cell_type": "code",
   "execution_count": 2,
   "id": "315e0e24-7307-433c-ae78-7842d635dd48",
   "metadata": {},
   "outputs": [
    {
     "name": "stdout",
     "output_type": "stream",
     "text": [
      "Ambos escolhem os valores públicos, P e G\n",
      "Valor de P: 23\n",
      "Valor de G: 9\n"
     ]
    }
   ],
   "source": [
    "print(\"Ambos escolhem os valores públicos, P e G\")\n",
    "\n",
    "# P deve ser um número primo\n",
    "P = 23\n",
    "print(\"Valor de P:\", P)\n",
    "\n",
    "# G deve ser uma raíz primitiva de P\n",
    "G = 9\n",
    "print(\"Valor de G:\", G)"
   ]
  },
  {
   "cell_type": "code",
   "execution_count": 3,
   "id": "53f5e718-cc3e-477f-a4c8-e3681e5da40b",
   "metadata": {},
   "outputs": [
    {
     "name": "stdout",
     "output_type": "stream",
     "text": [
      "Alice escolhe a chave privada A\n",
      "Chave Privada de Alice (A): 4\n"
     ]
    }
   ],
   "source": [
    "print(\"Alice escolhe a chave privada A\")\n",
    "A = 4\n",
    "print(\"Chave Privada de Alice (A):\", A)"
   ]
  },
  {
   "cell_type": "code",
   "execution_count": 4,
   "id": "bf948323-73a9-479d-b41c-cc8ea0a216c8",
   "metadata": {},
   "outputs": [
    {
     "name": "stdout",
     "output_type": "stream",
     "text": [
      "Chave Pública de Alice (X) 6\n"
     ]
    }
   ],
   "source": [
    "# Calcula a chave pública\n",
    "X = power(G, A, P)\n",
    "print(\"Chave Pública de Alice (X)\", X)"
   ]
  },
  {
   "cell_type": "code",
   "execution_count": 5,
   "id": "843ca00c-ec11-4702-a709-b02b3faeebe1",
   "metadata": {},
   "outputs": [
    {
     "name": "stdout",
     "output_type": "stream",
     "text": [
      "Bob escolhe a chave privada B\n",
      "Chave Privada de Bob (B): 3\n"
     ]
    }
   ],
   "source": [
    "print(\"Bob escolhe a chave privada B\")\n",
    "B = 3\n",
    "print(\"Chave Privada de Bob (B):\", B)"
   ]
  },
  {
   "cell_type": "code",
   "execution_count": 6,
   "id": "c0d50dc5-e519-420c-a1a3-d00dd66e09a6",
   "metadata": {},
   "outputs": [
    {
     "name": "stdout",
     "output_type": "stream",
     "text": [
      "Chave Pública de Bob (Y) 16\n"
     ]
    }
   ],
   "source": [
    "# Calcula a chave pública\n",
    "Y = power(G, B, P)\n",
    "print(\"Chave Pública de Bob (Y)\", Y)"
   ]
  },
  {
   "cell_type": "code",
   "execution_count": 7,
   "id": "aaf522d0-202b-4fd9-b2f6-7a682970fcb2",
   "metadata": {},
   "outputs": [
    {
     "name": "stdout",
     "output_type": "stream",
     "text": [
      "Trocam as chaves públicas entre si, e as utilizam para calcular a chave simétrica.\n",
      "Chave Secreta de Alice é: 9\n",
      "Chave Secreta de Bob é: 9\n"
     ]
    }
   ],
   "source": [
    "print(\"Trocam as chaves públicas entre si, e as utilizam para calcular a chave simétrica.\")\n",
    "\n",
    "# Chave Pública de Bob + Chave Privada de Alice = Chave Simétrica de Alice\n",
    "KA = power(Y, A, P)\n",
    "\n",
    "# Chave Pública de Alice + Chave Privada de Bob = Chave Simétrica de Bob\n",
    "KB = power(X, B, P)\n",
    "\n",
    "print(\"Chave Secreta de Alice é:\", KA)\n",
    "print(\"Chave Secreta de Bob é:\", KB)"
   ]
  }
 ],
 "metadata": {
  "kernelspec": {
   "display_name": "Python 3 (ipykernel)",
   "language": "python",
   "name": "python3"
  },
  "language_info": {
   "codemirror_mode": {
    "name": "ipython",
    "version": 3
   },
   "file_extension": ".py",
   "mimetype": "text/x-python",
   "name": "python",
   "nbconvert_exporter": "python",
   "pygments_lexer": "ipython3",
   "version": "3.11.3"
  }
 },
 "nbformat": 4,
 "nbformat_minor": 5
}
