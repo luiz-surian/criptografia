{
 "cells": [
  {
   "cell_type": "markdown",
   "id": "e00ae717-9aac-40bd-9054-7e5cbd97669f",
   "metadata": {},
   "source": [
    "# Advanced Encryption Standard"
   ]
  },
  {
   "cell_type": "markdown",
   "id": "ad12e8da-239d-4792-84ef-725eafe96514",
   "metadata": {},
   "source": [
    "Esse código ilustra o processo de criptografia usando algoritmo AES.  \n",
    "AES é um algoritmo de criptografia simétrica amplamente utilizado.  \n",
    "Ele opera em blocos de 128 bits e suporta chaves de 128, 192 ou 256 bits.  "
   ]
  },
  {
   "cell_type": "code",
   "execution_count": 1,
   "id": "772d3c61-59c7-479f-b984-6e36dde9e9ad",
   "metadata": {},
   "outputs": [],
   "source": [
    "import os\n",
    "from Crypto.Cipher import AES\n",
    "\n",
    "\n",
    "# PKCS7 Padding\n",
    "# O padding é utilizado para garantir que os dados tenham um tamanho\n",
    "# que seja um múltiplo do tamanho do bloco de cifra.\n",
    "def pad(data):\n",
    "    # Calcula a quantidade de bytes necessários\n",
    "    # para fazer o dado ser um múltiplo de 16.\n",
    "    padding_length = 16 - len(data) % 16\n",
    "    # Cria um array de bytes com o valor do comprimento do padding.\n",
    "    padding = bytes([padding_length] * padding_length)\n",
    "    return data + padding\n",
    "\n",
    "\n",
    "def unpad(data):\n",
    "    # Verifica quantos bytes de padding foram adicionados.\n",
    "    padding_length = data[-1]\n",
    "    # Verifica se o padding é válido.\n",
    "    if padding_length < 1 or padding_length > 16:\n",
    "        raise ValueError(\"Padding Inválido\")\n",
    "    return data[:-padding_length]\n",
    "\n",
    "\n",
    "def encrypt_file(input_file, output_file):\n",
    "    key = os.urandom(32)\n",
    "    iv = os.urandom(16)\n",
    "    cipher = AES.new(key, AES.MODE_CBC, iv)\n",
    "    try:\n",
    "        with open(input_file, 'rb') as f:\n",
    "            plaintext = f.read()\n",
    "        padded_plaintext = pad(plaintext)\n",
    "        ciphertext = cipher.encrypt(padded_plaintext)\n",
    "        with open(output_file, 'wb') as f:\n",
    "            f.write(ciphertext)\n",
    "        encoded_key = key.hex()\n",
    "        encoded_iv = iv.hex()\n",
    "        return encoded_key, encoded_iv\n",
    "    except Exception as e:\n",
    "        print(f\"Um erro ocorreu durante a encriptação: {e}\")\n",
    "        return None, None\n",
    "\n",
    "\n",
    "def decrypt_file(key, iv, input_file, output_file):\n",
    "    try:\n",
    "        decoded_key = bytes.fromhex(key)\n",
    "        iv_bytes = bytes.fromhex(iv)\n",
    "        if len(decoded_key) != 32:\n",
    "            raise ValueError(\"Incorrect AES key length\")\n",
    "        cipher = AES.new(decoded_key, AES.MODE_CBC, iv_bytes)\n",
    "        with open(input_file, 'rb') as f:\n",
    "            encrypted_data = f.read()\n",
    "        decrypted_data = unpad(cipher.decrypt(encrypted_data))\n",
    "        with open(output_file, 'wb') as f:\n",
    "            f.write(decrypted_data)\n",
    "    except Exception as e:\n",
    "        print(f\"Um erro ocorreu durante a encriptação: {e}\")"
   ]
  },
  {
   "cell_type": "code",
   "execution_count": 2,
   "id": "2ab0ed97-96f5-4b63-8054-002f7b13d113",
   "metadata": {},
   "outputs": [
    {
     "name": "stdout",
     "output_type": "stream",
     "text": [
      "Arquivo encriptado com sucesso.\n",
      "Chave: 55dbbb7b9209df36f3b5d35e70d21ef80c10572453fe27aea26d50e7dfa0b312\n",
      "IV: 61229aefa16ca274852ca39dc9a0a509\n",
      "Arquivo decriptado com sucesso.\n"
     ]
    }
   ],
   "source": [
    "input_file = \"ref/via_lactea_olavo_bilac.txt\"\n",
    "encrypted_file = \"ref/Encrypted_File\"\n",
    "decrypted_file = \"ref/Decrypted_File.txt\"\n",
    "\n",
    "# Encriptar um arquivo\n",
    "key, iv = encrypt_file(input_file, encrypted_file)\n",
    "if key and iv:\n",
    "    print(\"Arquivo encriptado com sucesso.\")\n",
    "    print(\"Chave:\", key)\n",
    "    print(\"IV:\", iv)\n",
    "    decrypt_file(key, iv, encrypted_file, decrypted_file)\n",
    "    print(\"Arquivo decriptado com sucesso.\")\n",
    "else:\n",
    "    print(\"Encriptação falhou.\")"
   ]
  },
  {
   "cell_type": "code",
   "execution_count": 3,
   "id": "f47d5c0a-02e9-4ccf-8427-7959b8eaffb6",
   "metadata": {},
   "outputs": [
    {
     "name": "stdout",
     "output_type": "stream",
     "text": [
      "Arquivo Decriptado\n",
      "b'# http://www.dominiopublico.gov.br/download/texto/bv000289.pdf\\r\\n# Via-Lactea, de Olavo Bilac\\r\\n\\r\\nTalvez sonhasse, quando a vi. Mas via\\r\\nQue, aos raios do luar iluminada,\\r\\nEntre as estrelas tremulas subia\\r\\nUma infinita e cintilante escada.\\r\\nE eu olhava-a de baixo, olhava-a... Em cada\\r\\nDegrau, que o ouro mais limpido vestia,\\r\\nMudo e sereno, um anjo a harpa dourada,\\r\\nRessoante de suplicas, feria...\\r\\nTu, mae sagrada! Vos tambem, formosas\\r\\nIlusoes! sonhos meus! ieis por ela\\r\\nComo um bando de sombras v'  [...]\n"
     ]
    }
   ],
   "source": [
    "print(\"Arquivo Decriptado\")\n",
    "with open(decrypted_file, 'rb') as file:\n",
    "    file_content = file.read()\n",
    "    print(file_content[:500], ' [...]')"
   ]
  },
  {
   "cell_type": "code",
   "execution_count": 4,
   "id": "ba58e183-9cd8-44a8-99fb-742c02094e49",
   "metadata": {},
   "outputs": [
    {
     "name": "stdout",
     "output_type": "stream",
     "text": [
      "Arquivo Encriptado\n",
      "b'\\xfe\\xc8\\xd3\\x01\\xb2<\\xe7}AOa\\xfb\\xfd\\xc6$\\x0b\\x033b\\xd5=\\x9cU*\\x0bx\\xe3\\xda\\xc3\\xff%(\\xb6\\xc7\\x84,\\xd8vv\\xb3Tq\\xaf\\x92\\x16\\xd9\\x06\\xa1V!\\x9d\\xedzK\\x85=\\xebB4%\\xb7G\\xff\\xec\\x8aC!\\t\\xaa\\xe6\\xc5\\xf9u\\xbd23\\xc0IK\\xee\\xe6\\xc1\\xfe\\x18\\xb8\\xff\\xca\\xc8M\\xdas\\xaaM\\xb3[|^\\xf0\\x07\\xc8\\x1c[W\\xc8D\\xf6\\x93\\xd1\\x1c\\xe7\\xcf\\xda\\xdf|x\\x86\\xcd\\xce\\xfb\\xa4Q\\x97i]\\x9e\\x9d\\x1eR\\xb7\\x99z\\x81\\x18G\\x00\\xdeBj\"\\xbc\\x87X\\r\\x99\\x97\\xd0\\xc0\\xa8\\xe2\\xd8(\\x87\\xb6Co\\xa7\\xa0\\xce!\\x98\\xb9\\x0e\\xd21\\'\\x8d`\\x03\\x11-&#\\x86o\\x05M\\x03-\\xe2\\xaa\\xfa\\xd9\\xfc\\xc2\\xee\\x06\\xc5~\\x1f\\xb2\\xb1\\x8ek\\x96f\\x0c\\xec\\x91\\x18Y\\xd3?\\xcc\\xf5E\\xc5\\x7f\\x017n\\xbe~\\x7f\\x11\\xad&\\xb5\\xd0\\xd0\\x02\\xb7j/kTk\\xf5%\\xef\\xf7\\xcf\\xcf\\xc8\\xdf\\x13g=so\\x06\\xbb\\xad\\x03\\xc6\\xa8Ki\\xf3HC\\xe34\\xb9\\xcb6\\x97;0gH_\\xb6\\x9e\\x05\\xc7P\\xa7Y\\x15\\xc4m\\xbf\\xaf\\xc7\\xd9\\xdeNg\\x8c\\x88@%\\x14v%@\\xea\\x97\\xdf\\xe9-\\x010\\xdc[J\\x969\\xe9eD\"\\x05!R[KZ\\x8a\\x85\\x07\\'\\x87\\xa5\\xb7\\xc0\\xcd\\xddxL5\"\\x17\\xc2\\xa8\\x9b\\xcf\\x96\\x05d\\x9a\\xc6\\x1d\\xab7T\\x13d\\xa4\\xa6\\xd5}\\xb2=\\xa1t\\x80\\xac\\xe0t\\x0b\\xc6\\xaeU\\xb4\\x8f\\xd6\\t8j\\\\d\\xbc\\xb7\\xd0\\xaa\\xe3\\xa3\\xf7h\\x10\\xa9U\\xb0\\x94\\x16~Ht\\x833\\xfc\\x07\\xd8\\xa7q\\xd1\\x1a\\xf9\\xa0*\\xf6\\x8e\\\\q\\xd8\\xaeh\\xd7.\\xf1\\xbat\\xf1H\\xfc\\xe2Hr\\x94\\xc9\\xd7\\xbdC\\x8fw\\x8f\\x12\\x89n\\x01V4\\xe3<c\\xd1R\\x1a\\xa1z\\xc4\\xe7\\xf5\\xa4A\\x88<c\\xb4\\xd3\\xd9\\xbd\\xab\\xf8|\\x07e\\x07\\x82R \\x92\\x9d\\xda\\xbb\\xff\\xce\\xb5\\xad\\x04\\x15\\xf1\\xf1\\xb1\\x009\\x18\\x19\\t\\xe8n\\xdd\\xb0\\x95\\xc9\\xddX\\xd5\\x10\\xec\\xfd\\xe5q\\x89\\\\\\xd4Q\\x89\\x94\\xed\\x11\\xe8X\\xf7\\xb4_d\\xf9\\xc5'  [...]\n"
     ]
    }
   ],
   "source": [
    "print(\"Arquivo Encriptado\")\n",
    "with open(encrypted_file, 'rb') as file:\n",
    "    file_content = file.read()\n",
    "    print(file_content[:500], ' [...]')"
   ]
  },
  {
   "cell_type": "code",
   "execution_count": null,
   "id": "81176b33-3eff-434b-ac22-65d679bde75f",
   "metadata": {},
   "outputs": [],
   "source": []
  }
 ],
 "metadata": {
  "kernelspec": {
   "display_name": "Python 3 (ipykernel)",
   "language": "python",
   "name": "python3"
  },
  "language_info": {
   "codemirror_mode": {
    "name": "ipython",
    "version": 3
   },
   "file_extension": ".py",
   "mimetype": "text/x-python",
   "name": "python",
   "nbconvert_exporter": "python",
   "pygments_lexer": "ipython3",
   "version": "3.10.13"
  }
 },
 "nbformat": 4,
 "nbformat_minor": 5
}
