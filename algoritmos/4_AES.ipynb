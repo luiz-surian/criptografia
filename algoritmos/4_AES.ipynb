{
 "cells": [
  {
   "cell_type": "markdown",
   "id": "e00ae717-9aac-40bd-9054-7e5cbd97669f",
   "metadata": {},
   "source": [
    "# Advanced Encryption Standard"
   ]
  },
  {
   "cell_type": "markdown",
   "id": "ad12e8da-239d-4792-84ef-725eafe96514",
   "metadata": {},
   "source": [
    "Esse código ilustra o processo de criptografia usando algoritmo AES.  \n",
    "AES é um algoritmo de criptografia simétrica amplamente utilizado.  \n",
    "Ele opera em blocos de 128 bits e suporta chaves de 128, 192 ou 256 bits.  "
   ]
  },
  {
   "cell_type": "code",
   "execution_count": 1,
   "id": "772d3c61-59c7-479f-b984-6e36dde9e9ad",
   "metadata": {},
   "outputs": [],
   "source": [
    "import os\n",
    "from cryptography.hazmat.primitives.ciphers import Cipher, algorithms, modes\n",
    "\n",
    "\n",
    "# PKCS7 Padding\n",
    "# O padding é utilizado para garantir que os dados tenham um tamanho\n",
    "# que seja um múltiplo do tamanho do bloco de cifra.\n",
    "def pad(data):\n",
    "    # Calcula a quantidade de bytes necessários\n",
    "    # para fazer o dado ser um múltiplo de 16.\n",
    "    padding_length = 16 - len(data) % 16\n",
    "    # Cria um array de bytes com o valor do comprimento do padding.\n",
    "    padding = bytes([padding_length] * padding_length)\n",
    "    return data + padding\n",
    "\n",
    "\n",
    "def unpad(data):\n",
    "    # Verifica quantos bytes de padding foram adicionados.\n",
    "    padding_length = data[-1]\n",
    "    # Verifica se o padding é válido.\n",
    "    if padding_length < 1 or padding_length > 16:\n",
    "        raise ValueError(\"Padding Inválido\")\n",
    "    return data[:-padding_length]\n",
    "\n",
    "\n",
    "def encrypt_file(input_file, output_file):\n",
    "    key = os.urandom(32)\n",
    "    iv = os.urandom(16)\n",
    "    cipher = Cipher(algorithms.AES(key), modes.CBC(iv))\n",
    "    encryptor = cipher.encryptor()\n",
    "    try:\n",
    "        with open(input_file, 'rb') as f:\n",
    "            plaintext = f.read()\n",
    "        padded_plaintext = pad(plaintext)\n",
    "        ciphertext = encryptor.update(padded_plaintext) + encryptor.finalize()\n",
    "        with open(output_file, 'wb') as f:\n",
    "            f.write(ciphertext)\n",
    "        encoded_key = key.hex()\n",
    "        encoded_iv = iv.hex()\n",
    "        return encoded_key, encoded_iv\n",
    "    except Exception as e:\n",
    "        print(f\"Um erro ocorreu durante a encriptação: {e}\")\n",
    "        return None, None\n",
    "\n",
    "\n",
    "def decrypt_file(key, iv, input_file, output_file):\n",
    "    try:\n",
    "        decoded_key = bytes.fromhex(key)\n",
    "        iv_bytes = bytes.fromhex(iv)\n",
    "        if len(decoded_key) != 32:\n",
    "            raise ValueError(\"Incorrect AES key length\")\n",
    "        cipher = Cipher(algorithms.AES(decoded_key), modes.CBC(iv_bytes))\n",
    "        decryptor = cipher.decryptor()\n",
    "        with open(input_file, 'rb') as f:\n",
    "            encrypted_data = f.read()\n",
    "        decrypted_data = decryptor.update(encrypted_data) + decryptor.finalize()\n",
    "        with open(output_file, 'wb') as f:\n",
    "            f.write(decrypted_data)\n",
    "    except Exception as e:\n",
    "        print(f\"Um erro ocorreu durante a encriptação: {e}\")"
   ]
  },
  {
   "cell_type": "code",
   "execution_count": 2,
   "id": "2ab0ed97-96f5-4b63-8054-002f7b13d113",
   "metadata": {},
   "outputs": [
    {
     "name": "stdout",
     "output_type": "stream",
     "text": [
      "Arquivo encriptado com sucesso.\n",
      "Chave: 0d6d970bd3616d1a28e4cadc0115d156e3dead8116560fb1a4a76440b7f7ee83\n",
      "IV: 9e0c801101ccc569f1d033c855d2a51c\n",
      "Arquivo decriptado com sucesso.\n"
     ]
    }
   ],
   "source": [
    "input_file = \"referencia/via_lactea_olavo_bilac.txt\"\n",
    "encrypted_file = \"referencia/Encrypted_File\"\n",
    "decrypted_file = \"referencia/Decrypted_File.txt\"\n",
    "\n",
    "# Encriptar um arquivo\n",
    "key, iv = encrypt_file(input_file, encrypted_file)\n",
    "if key and iv:\n",
    "    print(\"Arquivo encriptado com sucesso.\")\n",
    "    print(\"Chave:\", key)\n",
    "    print(\"IV:\", iv)\n",
    "    decrypt_file(key, iv, encrypted_file, decrypted_file)\n",
    "    print(\"Arquivo decriptado com sucesso.\")\n",
    "else:\n",
    "    print(\"Encriptação falhou.\")"
   ]
  },
  {
   "cell_type": "code",
   "execution_count": 3,
   "id": "f47d5c0a-02e9-4ccf-8427-7959b8eaffb6",
   "metadata": {},
   "outputs": [
    {
     "name": "stdout",
     "output_type": "stream",
     "text": [
      "Arquivo Decriptado\n",
      "b'# http://www.dominiopublico.gov.br/download/texto/bv000289.pdf\\r\\n# Via-Lactea, de Olavo Bilac\\r\\n\\r\\nTalvez sonhasse, quando a vi. Mas via\\r\\nQue, aos raios do luar iluminada,\\r\\nEntre as estrelas tremulas subia\\r\\nUma infinita e cintilante escada.\\r\\nE eu olhava-a de baixo, olhava-a... Em cada\\r\\nDegrau, que o ouro mais limpido vestia,\\r\\nMudo e sereno, um anjo a harpa dourada,\\r\\nRessoante de suplicas, feria...\\r\\nTu, mae sagrada! Vos tambem, formosas\\r\\nIlusoes! sonhos meus! ieis por ela\\r\\nComo um bando de sombras v'  [...]\n"
     ]
    }
   ],
   "source": [
    "print(\"Arquivo Decriptado\")\n",
    "with open(decrypted_file, 'rb') as file:\n",
    "    file_content = file.read()\n",
    "    print(file_content[:500], ' [...]')"
   ]
  },
  {
   "cell_type": "code",
   "execution_count": 4,
   "id": "ba58e183-9cd8-44a8-99fb-742c02094e49",
   "metadata": {},
   "outputs": [
    {
     "name": "stdout",
     "output_type": "stream",
     "text": [
      "Arquivo Encriptado\n",
      "b'Az\\x8e\\x9d\\x10\\x00\\xab?RY\\xf8)\\x87\\xff|n1h&T\\xdb\\xdd\\xb2\\x9b:x\\x9f\\xf7\\x11\\x90\\xf5|\\xd8\\x1dd\\x9d\\xa9{\\x1b\\xfe\\xa9\\x98u\\x8e\\xe6\\x07\\xf1\\xf1\\xa4\\xc7(\\xa4\\x97MG\\xb5iT{#f\\x85\\xa4\\xb0k\\xa2\\x13w\\x8cJ\\xc3\\xc1`\\xcb\\xd1\\x16\\xf4\\xe3\\xb1\\xa0\\xe7VH\\xef\\xac\\xa8\\x10\\xb1\\xa1%\\x99W+[\\x98\\xe8+8\\xac\\xcf\\xd5\\xb9\\xf0>q\\xff7\\xdcT\\xe6N3vpp\\x87\\xcd\\x83\\xc7kC\\xe4\\xdeG\\xda\\xdbL\\xba\\xf4\\x19]#\\x10\\xd0\\xb9\\xfe\\x0f\\xe18\\xc8HDO\\xb6\\xd7\\x0b#\\xf6\\xcdv\\tWKqf:\\xee\\xa6\\xfd\\xbf\\xa4\\xa5\\xed\\x04*)q\\x8f\\x02\\xbc\\x15\\x91L\\\\;\\x1f[\\xf7\\x9fVht\\xde \\xa0\\x04Q[\\xb6X\\xdfn8\\xa3Y\\xb8_\\x1c\\xd8\\xed{N:\\xe4\\x00\\x07;\\x85Au\\x04\\xf5\\xd0M5\\x87\\xaf\\x9a9 \\xd9B\\xcd\\t\\xd0(\\xfay\\xbb\\xf9z\\xc5\\x10\\xfa\\xb4\\xcc\\xea#B\\x08G\\xf9\\xca\\xe8\\x9d\\r,\\x1e\\xc3\\xe2\\x11=\\xd2\"\\xc3\\x00\\xderER\\x01.\\xe5tc\\')\\\\u\\xff\\xbb\\xa4\\xdf\\xf6\\x0c#i\\xbd x\\x04\\x9a\\xcb\\xb0\\xc7u@\\xeb\\x88\\xad\\x9d\\xf5\\x10\\xa4\\xb9\\x10}H\\x06\\x91\\x9e\\xaaQ{\\x1eSg\\x91\\xda\\x91\\xbd-\\x85b\\x02\\xfek\\x9e\\x08\\x1afY\\x8b$$\\xba-\\x8b~\\xa5\\xe0\\xfc\\x90\\xc5fh\\x96\\x9f\\xf1\\xdf\\xf3\\xaf\\xc4\\x15\\xb4\\xb0X\\xef\\xa8(,\\x94\\xc6:F2\\xff\\x8d\\xebw\\xba4\\xba9|\\'\\xb1\\x7f+\\x16\\x89\\x91\\xbf\\xda\\xd7\\xd4\\x84\\xe7\\xb17$qw4\\x81\\x99&Z\\x81d\\xed\\xec=\\x8f\\xb6_- \\xa3\\xe4\\x952\\xc278\\xac\\xb91\\x8a\\x90\"P\\xf1\\x08\\x8dc\\xc1\\xaf\\xf9\\x96\\x8a\\x93\\xb1\\x02\\xfc\\xc60\\xf8\\xac\\xfe\\x0c%k\\xf30\\xc6\\xb1\\xc5\\xe7\\xb2\\x1c\\xdd \\x84\\xde\\x97\\xf2\\x07i\\xfa\\xd4\\xd1|\\xae\\x0bSX\\xa4-P\\xcc,2_t\\x0e\\xf0t\\xd0\\xaa\\x17\\t\\xfe[DG\\x05\\x96\\xf6\\xf3\\x8dI\\xaa\\xe8\\x9f\\x08\\x08\\xe7C9mfm\\x8a\\xea\\xdeh\\xe1G\\x1e'  [...]\n"
     ]
    }
   ],
   "source": [
    "print(\"Arquivo Encriptado\")\n",
    "with open(encrypted_file, 'rb') as file:\n",
    "    file_content = file.read()\n",
    "    print(file_content[:500], ' [...]')"
   ]
  }
 ],
 "metadata": {
  "kernelspec": {
   "display_name": "Python 3 (ipykernel)",
   "language": "python",
   "name": "python3"
  },
  "language_info": {
   "codemirror_mode": {
    "name": "ipython",
    "version": 3
   },
   "file_extension": ".py",
   "mimetype": "text/x-python",
   "name": "python",
   "nbconvert_exporter": "python",
   "pygments_lexer": "ipython3",
   "version": "3.11.3"
  }
 },
 "nbformat": 4,
 "nbformat_minor": 5
}
