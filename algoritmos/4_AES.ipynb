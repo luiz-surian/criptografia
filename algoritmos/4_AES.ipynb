{
 "cells": [
  {
   "cell_type": "markdown",
   "id": "e00ae717-9aac-40bd-9054-7e5cbd97669f",
   "metadata": {},
   "source": [
    "# Advanced Encryption Standard"
   ]
  },
  {
   "cell_type": "markdown",
   "id": "ad12e8da-239d-4792-84ef-725eafe96514",
   "metadata": {},
   "source": [
    "Esse código ilustra o processo de criptografia usando algoritmo AES.  \n",
    "AES é um algoritmo de criptografia simétrica amplamente utilizado.  \n",
    "Ele opera em blocos de 128 bits e suporta chaves de 128, 192 ou 256 bits.  "
   ]
  },
  {
   "cell_type": "code",
   "execution_count": 1,
   "id": "772d3c61-59c7-479f-b984-6e36dde9e9ad",
   "metadata": {},
   "outputs": [],
   "source": [
    "import os\n",
    "from cryptography.hazmat.primitives.ciphers import Cipher, algorithms, modes\n",
    "\n",
    "\n",
    "# PKCS7 Padding\n",
    "# O padding é utilizado para garantir que os dados tenham um tamanho\n",
    "# que seja um múltiplo do tamanho do bloco de cifra.\n",
    "def pad(data):\n",
    "    # Calcula a quantidade de bytes necessários\n",
    "    # para fazer o dado ser um múltiplo de 16.\n",
    "    padding_length = 16 - len(data) % 16\n",
    "    # Cria um array de bytes com o valor do comprimento do padding.\n",
    "    padding = bytes([padding_length] * padding_length)\n",
    "    return data + padding\n",
    "\n",
    "\n",
    "def unpad(data):\n",
    "    # Verifica quantos bytes de padding foram adicionados.\n",
    "    padding_length = data[-1]\n",
    "    # Verifica se o padding é válido.\n",
    "    if padding_length < 1 or padding_length > 16:\n",
    "        raise ValueError(\"Padding Inválido\")\n",
    "    return data[:-padding_length]\n",
    "\n",
    "\n",
    "def encrypt_file(input_file, output_file):\n",
    "    key = os.urandom(32)\n",
    "    iv = os.urandom(16)\n",
    "    cipher = Cipher(algorithms.AES(key), modes.CBC(iv))\n",
    "    encryptor = cipher.encryptor()\n",
    "    try:\n",
    "        with open(input_file, 'rb') as f:\n",
    "            plaintext = f.read()\n",
    "        padded_plaintext = pad(plaintext)\n",
    "        ciphertext = encryptor.update(padded_plaintext) + encryptor.finalize()\n",
    "        with open(output_file, 'wb') as f:\n",
    "            f.write(ciphertext)\n",
    "        encoded_key = key.hex()\n",
    "        encoded_iv = iv.hex()\n",
    "        return encoded_key, encoded_iv\n",
    "    except Exception as e:\n",
    "        print(f\"Um erro ocorreu durante a encriptação: {e}\")\n",
    "        return None, None\n",
    "\n",
    "\n",
    "def decrypt_file(key, iv, input_file, output_file):\n",
    "    try:\n",
    "        decoded_key = bytes.fromhex(key)\n",
    "        iv_bytes = bytes.fromhex(iv)\n",
    "        if len(decoded_key) != 32:\n",
    "            raise ValueError(\"Incorrect AES key length\")\n",
    "        cipher = Cipher(algorithms.AES(decoded_key), modes.CBC(iv_bytes))\n",
    "        decryptor = cipher.decryptor()\n",
    "        with open(input_file, 'rb') as f:\n",
    "            encrypted_data = f.read()\n",
    "        decrypted_data = decryptor.update(encrypted_data) + decryptor.finalize()\n",
    "        with open(output_file, 'wb') as f:\n",
    "            f.write(decrypted_data)\n",
    "    except Exception as e:\n",
    "        print(f\"Um erro ocorreu durante a encriptação: {e}\")"
   ]
  },
  {
   "cell_type": "code",
   "execution_count": 2,
   "id": "2ab0ed97-96f5-4b63-8054-002f7b13d113",
   "metadata": {},
   "outputs": [
    {
     "name": "stdout",
     "output_type": "stream",
     "text": [
      "Arquivo encriptado com sucesso.\n",
      "Chave: 009398037bab2124807cda24c4e85e7210077d5ca39901fa5527b1bff9e963d0\n",
      "IV: 39acb6ba152dfab0cc9d9dc88da7fe26\n",
      "Arquivo decriptado com sucesso.\n"
     ]
    }
   ],
   "source": [
    "input_file = \"../referencia/via_lactea_olavo_bilac.txt\"\n",
    "encrypted_file = \"../referencia/Encrypted_File\"\n",
    "decrypted_file = \"../referencia/Decrypted_File.txt\"\n",
    "\n",
    "# Encriptar um arquivo\n",
    "key, iv = encrypt_file(input_file, encrypted_file)\n",
    "if key and iv:\n",
    "    print(\"Arquivo encriptado com sucesso.\")\n",
    "    print(\"Chave:\", key)\n",
    "    print(\"IV:\", iv)\n",
    "    decrypt_file(key, iv, encrypted_file, decrypted_file)\n",
    "    print(\"Arquivo decriptado com sucesso.\")\n",
    "else:\n",
    "    print(\"Encriptação falhou.\")"
   ]
  },
  {
   "cell_type": "code",
   "execution_count": 3,
   "id": "f47d5c0a-02e9-4ccf-8427-7959b8eaffb6",
   "metadata": {},
   "outputs": [
    {
     "name": "stdout",
     "output_type": "stream",
     "text": [
      "Arquivo Decriptado\n",
      "b'# http://www.dominiopublico.gov.br/download/texto/bv000289.pdf\\r\\n# Via-Lactea, de Olavo Bilac\\r\\n\\r\\nTalvez sonhasse, quando a vi. Mas via\\r\\nQue, aos raios do luar iluminada,\\r\\nEntre as estrelas tremulas subia\\r\\nUma infinita e cintilante escada.\\r\\nE eu olhava-a de baixo, olhava-a... Em cada\\r\\nDegrau, que o ouro mais limpido vestia,\\r\\nMudo e sereno, um anjo a harpa dourada,\\r\\nRessoante de suplicas, feria...\\r\\nTu, mae sagrada! Vos tambem, formosas\\r\\nIlusoes! sonhos meus! ieis por ela\\r\\nComo um bando de sombras v'  [...]\n"
     ]
    }
   ],
   "source": [
    "print(\"Arquivo Decriptado\")\n",
    "with open(decrypted_file, 'rb') as file:\n",
    "    file_content = file.read()\n",
    "    print(file_content[:500], ' [...]')"
   ]
  },
  {
   "cell_type": "code",
   "execution_count": 4,
   "id": "ba58e183-9cd8-44a8-99fb-742c02094e49",
   "metadata": {},
   "outputs": [
    {
     "name": "stdout",
     "output_type": "stream",
     "text": [
      "Arquivo Encriptado\n",
      "b'/\\xa0\\xb2\\x1eCub\\x8a\\r3\\x03H\\x93\\xebD\\xeb\\xa0\\xf1X\\xd6\\x16V*\\x00\\xd8O\\xf2\\xa4\\xf7#z\\x81\\xf2\\x90e\\xc4\\xfa\\xb8O\\x8d\\x10\\xf3%6\\xfdiH\\xb4\\x98\\xff:zZE\\xc8\\xfd\\x84Q\\x058=M\\xdb\\x7fOKP\\x0c\\x12\\xa0\\xfd\\xe1_\\xc0R\\x00<k<\\x8d\\x14\\x80A\\xf9mh-\\x0c \\xeab\\xf4a\\x99]\\xd8e@\\xc1|\\xe5l\\x8e\\xa8\\xe9\\x99\\xc0P\\xf9\\xb1z~\\x88\\xcd\\x8a\\x8b#\\x8e\\xb6I;\\xb8\\x06\\x16r4\\xc1\\xef\\x0f\\xdbY\\x1b\\xef\\xd2{[E\\xf3\\xb8\\xb13\\xcc{RO\\xb9\\x10Q\\x9d51[;\\x11S\\x8f\\x11\\x1c\\x10\\x98\\xae\\x9d\\xbb!\\xb6K\\xf1\\xbeL\\xae\\xb9\\xb3,d\\x81\\x80\\xd7\\x81\\xd0?\\xcd=\\x16eI\\xac\\xd9\\xb4\\xcc\\x99\\xc9G\\xdb\\xf9\\xab\\x8eq\\xa6>\\xe0\\xcd[\\xfbG\\x8c \\xea\\x0bU\\xa3\\xe3>\\x81\\xe6\\xb0\\xac\\xc3\\xfb\\xa9\\x07\\x83Gm\\x1c9\\x1f\\x99\\xf9\\xc7cn\\xb8\\x83p\\x91\\x9b\\x96\\x15{\\xfa\\x88\\x88\\xaaGj\\xff2y8\\xe6<\\x13$\\rEF\\x82|\\x1a\\x86\\x06M\\x1e\\xc1F\\xa4\\xdb\\xa0\\x9bC\\xe4\\xfd\\xaad{\\r\\xc2F#M\\xae\\x8c\\x9a\\x0b\\xd0\\xf5\\r\\xb2\\xfc\\r\\xd1$\\x0b\\x14\\x1d$\\x8a\\x9b\\xcb\\xe3!y\\xe1!\\xa9\\x1f@\\xc5w\\x0f\\xbe\\x8ea\\x96\\x1f\\x12\\n\\xac\\x13Y\\xc9Wj\\xe8x\\xe1\\xbf:\\xd2,m\\xc2\\xb5:w\\xa6\\xf6Bg\\x96\\x08?\\xd2\\x17\\xa0x\\xcc,\\x81K\\xff\\x91J\\xda\\x119\\xbe\\xd8h\\xfe[V\\xaaw\\xe1\\xb4\\x03\\xf7\\x9c\\xbe\\xe6\\xe2\\x00\\xef{d\\x8b\\x86\\xdf\\x90\\xac\\x99\\xb4\\xed\\xdf#Z\\xd1\\x95\\x8c\\xca\\xe1\\xdd\\xb8Q\\x98[8\\x98\\xab\\x81\\xe4,\\xa2\\x19-\\x82\\x910\\x1f\\x8e=\\x9b\\x07|\\xfa\\x102z\\x88B\\x0c;\\xbbo\\r\\x97S\\x87\\xf6\\x97\\xdeR\\x02\\x10\\x86x\\x1ax\\x8c\\xfd\\x12C~\\xaa\\x80\\n\\xa4\\xc0S*\\x98f\\x1e6@<\\xb4cY\\xca\\n\\x0c\\x1b\\xe5\\xbfesc\\xea\\xb2\\\\\\x10J\\x05cv\\xd8\\x9b\\x9d\\xdb\\xe8o\\x8f\\x91$\\x12\\x0f\\xf2\\xaak\\xb7\\xbav\\x7f\\xd7tL\\x9a\\xe1'  [...]\n"
     ]
    }
   ],
   "source": [
    "print(\"Arquivo Encriptado\")\n",
    "with open(encrypted_file, 'rb') as file:\n",
    "    file_content = file.read()\n",
    "    print(file_content[:500], ' [...]')"
   ]
  }
 ],
 "metadata": {
  "kernelspec": {
   "display_name": "Python 3 (ipykernel)",
   "language": "python",
   "name": "python3"
  },
  "language_info": {
   "codemirror_mode": {
    "name": "ipython",
    "version": 3
   },
   "file_extension": ".py",
   "mimetype": "text/x-python",
   "name": "python",
   "nbconvert_exporter": "python",
   "pygments_lexer": "ipython3",
   "version": "3.11.3"
  }
 },
 "nbformat": 4,
 "nbformat_minor": 5
}
