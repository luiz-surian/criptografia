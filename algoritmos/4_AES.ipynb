{
 "cells": [
  {
   "cell_type": "markdown",
   "id": "e00ae717-9aac-40bd-9054-7e5cbd97669f",
   "metadata": {},
   "source": [
    "# Advanced Encryption Standard"
   ]
  },
  {
   "cell_type": "markdown",
   "id": "ad12e8da-239d-4792-84ef-725eafe96514",
   "metadata": {},
   "source": [
    "Esse código ilustra o processo de criptografia usando algoritmo AES.  \n",
    "AES é um algoritmo de criptografia simétrica amplamente utilizado.  \n",
    "Ele opera em blocos de 128 bits e suporta chaves de 128, 192 ou 256 bits.  "
   ]
  },
  {
   "cell_type": "code",
   "execution_count": 1,
   "id": "772d3c61-59c7-479f-b984-6e36dde9e9ad",
   "metadata": {},
   "outputs": [],
   "source": [
    "import os\n",
    "from Crypto.Cipher import AES\n",
    "\n",
    "\n",
    "# PKCS7 Padding\n",
    "# O padding é utilizado para garantir que os dados tenham um tamanho\n",
    "# que seja um múltiplo do tamanho do bloco de cifra.\n",
    "def pad(data):\n",
    "    # Calcula a quantidade de bytes necessários\n",
    "    # para fazer o dado ser um múltiplo de 16.\n",
    "    padding_length = 16 - len(data) % 16\n",
    "    # Cria um array de bytes com o valor do comprimento do padding.\n",
    "    padding = bytes([padding_length] * padding_length)\n",
    "    return data + padding\n",
    "\n",
    "\n",
    "def unpad(data):\n",
    "    # Verifica quantos bytes de padding foram adicionados.\n",
    "    padding_length = data[-1]\n",
    "    # Verifica se o padding é válido.\n",
    "    if padding_length < 1 or padding_length > 16:\n",
    "        raise ValueError(\"Padding Inválido\")\n",
    "    return data[:-padding_length]\n",
    "\n",
    "\n",
    "def encrypt_file(input_file, output_file):\n",
    "    key = os.urandom(32)\n",
    "    iv = os.urandom(16)\n",
    "    cipher = AES.new(key, AES.MODE_CBC, iv)\n",
    "    try:\n",
    "        with open(input_file, 'rb') as f:\n",
    "            plaintext = f.read()\n",
    "        padded_plaintext = pad(plaintext)\n",
    "        ciphertext = cipher.encrypt(padded_plaintext)\n",
    "        with open(output_file, 'wb') as f:\n",
    "            f.write(ciphertext)\n",
    "        encoded_key = key.hex()\n",
    "        encoded_iv = iv.hex()\n",
    "        return encoded_key, encoded_iv\n",
    "    except Exception as e:\n",
    "        print(f\"Um erro ocorreu durante a encriptação: {e}\")\n",
    "        return None, None\n",
    "\n",
    "\n",
    "def decrypt_file(key, iv, input_file, output_file):\n",
    "    try:\n",
    "        decoded_key = bytes.fromhex(key)\n",
    "        iv_bytes = bytes.fromhex(iv)\n",
    "        if len(decoded_key) != 32:\n",
    "            raise ValueError(\"Incorrect AES key length\")\n",
    "        cipher = AES.new(decoded_key, AES.MODE_CBC, iv_bytes)\n",
    "        with open(input_file, 'rb') as f:\n",
    "            encrypted_data = f.read()\n",
    "        decrypted_data = unpad(cipher.decrypt(encrypted_data))\n",
    "        with open(output_file, 'wb') as f:\n",
    "            f.write(decrypted_data)\n",
    "    except Exception as e:\n",
    "        print(f\"Um erro ocorreu durante a encriptação: {e}\")"
   ]
  },
  {
   "cell_type": "code",
   "execution_count": 2,
   "id": "2ab0ed97-96f5-4b63-8054-002f7b13d113",
   "metadata": {},
   "outputs": [
    {
     "name": "stdout",
     "output_type": "stream",
     "text": [
      "Arquivo encriptado com sucesso.\n",
      "Chave: dd7651c7754a1bb7e4f82178e1c3d6afa0456e3105a6244cde918d14325cf87c\n",
      "IV: b242c87d209e1a66eed802bd1bd91e6b\n",
      "Arquivo decriptado com sucesso.\n"
     ]
    }
   ],
   "source": [
    "input_file = \"../referencia/via_lactea_olavo_bilac.txt\"\n",
    "encrypted_file = \"../referencia/Encrypted_File\"\n",
    "decrypted_file = \"../referencia/Decrypted_File.txt\"\n",
    "\n",
    "# Encriptar um arquivo\n",
    "key, iv = encrypt_file(input_file, encrypted_file)\n",
    "if key and iv:\n",
    "    print(\"Arquivo encriptado com sucesso.\")\n",
    "    print(\"Chave:\", key)\n",
    "    print(\"IV:\", iv)\n",
    "    decrypt_file(key, iv, encrypted_file, decrypted_file)\n",
    "    print(\"Arquivo decriptado com sucesso.\")\n",
    "else:\n",
    "    print(\"Encriptação falhou.\")"
   ]
  },
  {
   "cell_type": "code",
   "execution_count": 3,
   "id": "f47d5c0a-02e9-4ccf-8427-7959b8eaffb6",
   "metadata": {},
   "outputs": [
    {
     "name": "stdout",
     "output_type": "stream",
     "text": [
      "Arquivo Decriptado\n",
      "b'# http://www.dominiopublico.gov.br/download/texto/bv000289.pdf\\r\\n# Via-Lactea, de Olavo Bilac\\r\\n\\r\\nTalvez sonhasse, quando a vi. Mas via\\r\\nQue, aos raios do luar iluminada,\\r\\nEntre as estrelas tremulas subia\\r\\nUma infinita e cintilante escada.\\r\\nE eu olhava-a de baixo, olhava-a... Em cada\\r\\nDegrau, que o ouro mais limpido vestia,\\r\\nMudo e sereno, um anjo a harpa dourada,\\r\\nRessoante de suplicas, feria...\\r\\nTu, mae sagrada! Vos tambem, formosas\\r\\nIlusoes! sonhos meus! ieis por ela\\r\\nComo um bando de sombras v'  [...]\n"
     ]
    }
   ],
   "source": [
    "print(\"Arquivo Decriptado\")\n",
    "with open(decrypted_file, 'rb') as file:\n",
    "    file_content = file.read()\n",
    "    print(file_content[:500], ' [...]')"
   ]
  },
  {
   "cell_type": "code",
   "execution_count": 4,
   "id": "ba58e183-9cd8-44a8-99fb-742c02094e49",
   "metadata": {},
   "outputs": [
    {
     "name": "stdout",
     "output_type": "stream",
     "text": [
      "Arquivo Encriptado\n",
      "b'\\x07\\x80\\x13#|\\x94\\xd3}\\x8c\\x18\\xfd\\xa3\\xbf\\xb52\\x8e\\n\\x18(\\x9d\\xfc\\xa5/E\\xa5\\xe3\\x8cV$0\\x1b\\xfc\\xde\\xdd\\xffS\\x80\\xe2\\xe3\\xeb\\xcc\\xf0\\x15\\xcbT\\xff\\xf426\\xe0W\\x1d\\xc0\\xaf\\xa5\\x8a\\x86i\\r\\x17\\xdc0j\\xe3/$\\xa7\\x82l\\x16\\xee(\\xc1h\\x16\\x15\\x17\\x82\\x95F\\x17\\xfeH\\xb2\\nH\\xfe9z\\x1b\\x0e\\xd9\\xff\\x81\\xf0\\n\\x8b\\xaaW?\\r\\xccu\\x07\\x18\\xfc\\xc9$q\\x9b\\xb4\\xcd\\x8e\\x83\\x98\\x99\\xccyC\\x94\\xf5\\x95\\xdeH\\xdf(6\\xddn\\'\\x9c\\xbb\\xf1\\xf8E\\xeb\\x02\\xe8\\xb8\\xe3\\x14m\\xa6\\xff\\xb9\\x08\\xf5\\x9b\\xa1\\x13\\xa2Z\\x03 \\xaa\\xbb\\x03\\x89j\\x151\\xe87\\xb0n\\x12Q\\xa2\\x94\\x19\\x87Lw\\xb72\\xb7\\x0e\\x84\\x98\\xee\\xbfa\\xa8\\xeaqN\\x02&\\xc8yN\\t\\x95\\xf0\\xefE\\xda\\xfd\\xc1\\xd6\\xe8\\xb4\\xbbI\\x086\\xa3\\xfe\\x158`\\xcfE\\xd9\\x8c\\xed\\x17tc\\xb0\\x14\\xf2\\xae\\x95\\xc2\\xf5hmy\\x9f\\x8b\\x02Q\\xff\\xb2\\xb3\\xd6#(\\x14\\xd0\\xa2m\\x0b\\xbb\\x98\\x8ck\\x07\\x0e:\\nO\\xbaPs\\xd3\\xc6c\\x1e\\xcf\\x99pN\\x1c\\xf1%\\xe9\\xc7\\xe0\\xdd8/k\\x89\\x1cs*2\\xbe4\\xdc\\x1d-\\xaaF\\xdf\\xdb;\\xfe\\xd0\\xae\\x18\\xd8\\\\u\\x89\\xba\\xb9\\xa4jt\\xc2\\xd8\\x0c\\xbds\\xc5c\\xf6\\x9d.|<\\xfb\\x87 \\xca\\xa5\\xe6\\xce\\xec\\xbfb\\xc9\\xa6qj\\xb4\\xec]\\xce\\xdeI\\xe2\\x9f\\xc1\\xb6\\x0c\\xe0\\xf7(\\xa6\\x8d\\xd1\\xf3H\\xec%\\xd0\\xccfl\\x90\\xd2\\x03\\xad)\\x8e)<]#Z\\xb8T\\xab\\xf3\\xff!L\\xc25\\xf7\\xac\\xed\\x06NM\\xfd\\xceQ\\xa5v\"\\xb2\\xccU\\xc4\\xf5\\x8d\\x15.\\xad\\xd8\\xf7\\x0bW7LD\\xa7@\\xc9\\xd7\\xac\\xa7\\t\\xc2,?\\r\\xb04r\\xfe\\x9c\\xc0\\x8b\\xb2\\xc7N\\xaf\\x0fb\\xdf$\\xe8\\x9f\\xaeEZ~6/-\\x1c\\xc7/\\xa4`>+\\x10\\x16\\x1c\\x16\\xd4\\xfa\\x98\\xc9\\xc8_\\x9f\\x02\\xd4\\x17\\x0c\\xde4\\x88A\\xcav \\xe8\\x81R\\xab\\x9d\\x0c*\\xe4\\x92\\x8a\\xc8{*\\x9c\\x9f\\x7f\\\\\\x01c\\x13\\x9c\\xcf*\\xd4\\x8d\\xf5\\x1d\\xaa1wl\\x8f\\xe6?\\xa1'  [...]\n"
     ]
    }
   ],
   "source": [
    "print(\"Arquivo Encriptado\")\n",
    "with open(encrypted_file, 'rb') as file:\n",
    "    file_content = file.read()\n",
    "    print(file_content[:500], ' [...]')"
   ]
  }
 ],
 "metadata": {
  "kernelspec": {
   "display_name": "Python 3 (ipykernel)",
   "language": "python",
   "name": "python3"
  },
  "language_info": {
   "codemirror_mode": {
    "name": "ipython",
    "version": 3
   },
   "file_extension": ".py",
   "mimetype": "text/x-python",
   "name": "python",
   "nbconvert_exporter": "python",
   "pygments_lexer": "ipython3",
   "version": "3.10.13"
  }
 },
 "nbformat": 4,
 "nbformat_minor": 5
}
