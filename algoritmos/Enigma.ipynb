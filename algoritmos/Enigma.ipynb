{
 "cells": [
  {
   "cell_type": "markdown",
   "id": "4abb6713-f404-4d4f-a0e8-86aa8f17b23c",
   "metadata": {},
   "source": [
    "# Enigma (WWII)\n",
    "\n",
    "Qual a quantidade de **senhas** possíveis através da combinação de diferentes configurações da máquina?  \n",
    "A versão mais comum, usada pelas forças armadas alemãs possuia:\n",
    "- 3 rotores escolhidos de um conjunto de 5\n",
    "- 26 posições iniciais por rotor\n",
    "- Um painel de cabos de conexão direta (plugboard)\n",
    "\n",
    "## Rotores\n",
    "\n",
    "### Escolher 3 rotores de um conjunto de 5:\n",
    "$\\binom{5}{3} = 10 \\text{ combinações}$\n",
    "\n",
    "### Cada combinação pode ser ordenada de 6 formas (3! = 6):\n",
    "$10 \\times 6 = 60 \\text{ configurações de rotores}$\n",
    "\n",
    "### Cada rotor tem 26 posições (A–Z):\n",
    "$26^3 = 17.576 \\text{ posições iniciais}$\n",
    "\n",
    "## Plugboard\n",
    "\n",
    "### O plugboard conectava pares de letras. \n",
    "Normalmente, **10** pares eram usados.\n",
    "\n",
    "### O número de maneiras de escolher 10 pares de 26 letras é:\n",
    "$\\frac{26!}{(26 - 20)! \\times 10! \\times 2^{10}} = 150.738.274.937.250$  \n",
    "(150 Trilhões)\n",
    "\n",
    "## Total\n",
    "\n",
    "### Multiplicando tudo:\n",
    "$60 \\times 17.576 \\times 150.738.274.937.250 \\approx 158.962.555.217.826.360.000$  \n",
    "\n",
    "## Combinação total de senhas do Enigma: \n",
    "**Aproximadamente ~159 Quintilhões**"
   ]
  },
  {
   "cell_type": "code",
   "execution_count": 3,
   "id": "5d61d1fb-36d3-43ed-a295-821b824f3d9a",
   "metadata": {},
   "outputs": [
    {
     "name": "stdout",
     "output_type": "stream",
     "text": [
      "10 combinações\n",
      "60 configurações de rotores\n",
      "17576 posições iniciais\n",
      "150738274937250 combinações\n",
      "158962555217826360000 senhas\n"
     ]
    }
   ],
   "source": [
    "import math\n",
    "\n",
    "rotores_conjunto = 5\n",
    "rotores_maquina = 3\n",
    "\n",
    "letras_alfabeto = 26\n",
    "\n",
    "plugboard_fios = 10\n",
    "\n",
    "# Escolher 3 rotores de um conjunto de 5\n",
    "rotores_combinacoes = math.comb(rotores_conjunto, rotores_maquina)\n",
    "print(rotores_combinacoes, 'combinações')\n",
    "\n",
    "# Cada combinação pode ser ordenada de 6 formas (3! = 6)\n",
    "rotores_ordem_combinacao = rotores_combinacoes * math.factorial(rotores_maquina)\n",
    "print(rotores_ordem_combinacao, 'configurações de rotores')\n",
    "\n",
    "# Cada rotor tem 26 posições (A–Z)\n",
    "rotores_posicoes_iniciais = int(math.pow(letras_alfabeto, rotores_maquina))\n",
    "print(rotores_posicoes_iniciais, 'posições iniciais')\n",
    "\n",
    "# Plugboard: Número de maneiras de escolher 10 pares de 26 letras\n",
    "plugboard_combinacoes = int(int(math.factorial(letras_alfabeto)) / int(math.factorial(letras_alfabeto - plugboard_fios*2) * math.factorial(plugboard_fios) * math.pow(2, plugboard_fios)))\n",
    "print(plugboard_combinacoes, 'combinações')\n",
    "\n",
    "# Total:\n",
    "total = rotores_ordem_combinacao * rotores_posicoes_iniciais * plugboard_combinacoes\n",
    "print(total, 'senhas')"
   ]
  }
 ],
 "metadata": {
  "kernelspec": {
   "display_name": "Python 3 (ipykernel)",
   "language": "python",
   "name": "python3"
  },
  "language_info": {
   "codemirror_mode": {
    "name": "ipython",
    "version": 3
   },
   "file_extension": ".py",
   "mimetype": "text/x-python",
   "name": "python",
   "nbconvert_exporter": "python",
   "pygments_lexer": "ipython3",
   "version": "3.10.13"
  }
 },
 "nbformat": 4,
 "nbformat_minor": 5
}
