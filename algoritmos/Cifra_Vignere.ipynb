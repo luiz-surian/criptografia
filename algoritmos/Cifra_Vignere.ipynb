{
 "cells": [
  {
   "cell_type": "markdown",
   "id": "5eab68a6-9940-4c89-b3d1-370921edb6f4",
   "metadata": {},
   "source": [
    "# Cifra de Vignère"
   ]
  },
  {
   "cell_type": "code",
   "execution_count": 1,
   "id": "12a64ea1-7b66-4d35-85ae-2a537145a25c",
   "metadata": {},
   "outputs": [],
   "source": [
    "def gerar_chave(texto, chave):\n",
    "    chave = list(chave)\n",
    "    if len(texto) == len(chave):\n",
    "        return chave\n",
    "    else:\n",
    "        for i in range(len(texto) - len(chave)):\n",
    "            chave.append(chave[i % len(chave)])\n",
    "    return \"\".join(chave)\n",
    "\n",
    "\n",
    "def vigenere_encrypt(texto, chave):\n",
    "    texto_encriptado = ''\n",
    "    # Repetir a chave para ter o mesmo tamanho do texto.\n",
    "    chave_repetida = gerar_chave(texto, chave)\n",
    "    # Troca cada caractere individualmente.\n",
    "    for i in range(len(texto)):\n",
    "        # Verifica se é uma letra, ignora números e caracteres especiais.\n",
    "        if texto[i].isalpha():\n",
    "            # Calcula a rotação de acordo com a letra correspondente da chave.\n",
    "            shift = ord(chave_repetida[i].upper()) - ord('A')\n",
    "            # Diferencia maíuscula de minúscula.\n",
    "            if texto[i].isupper():\n",
    "                texto_encriptado += chr((ord(texto[i]) + shift - ord('A')) % 26 + ord('A'))\n",
    "            else:\n",
    "                texto_encriptado += chr((ord(texto[i]) + shift - ord('a')) % 26 + ord('a'))\n",
    "        else:\n",
    "            texto_encriptado += texto[i]\n",
    "    return texto_encriptado\n",
    "\n",
    "\n",
    "def vigenere_decrypt(texto_cifrado, chave):\n",
    "    texto_decriptado = ''\n",
    "    # Repetir a chave para ter o mesmo tamanho do texto.\n",
    "    chave_repetida = gerar_chave(texto_cifrado, chave)\n",
    "    # Troca cada caractere individualmente.\n",
    "    for i in range(len(texto_cifrado)):\n",
    "        # Verifica se é uma letra, ignora números e caracteres especiais.\n",
    "        if texto_cifrado[i].isalpha():\n",
    "            # Calcula a rotação de acordo com a letra correspondente da chave.\n",
    "            shift = ord(chave_repetida[i].upper()) - ord('A')\n",
    "            # Diferencia maíuscula de minúscula.\n",
    "            if texto_cifrado[i].isupper():\n",
    "                texto_decriptado += chr((ord(texto_cifrado[i]) - shift - ord('A')) % 26 + ord('A'))\n",
    "            else:\n",
    "                texto_decriptado += chr((ord(texto_cifrado[i]) - shift - ord('a')) % 26 + ord('a'))\n",
    "        else:\n",
    "            texto_decriptado += texto_cifrado[i]\n",
    "    return texto_decriptado"
   ]
  },
  {
   "cell_type": "code",
   "execution_count": 2,
   "id": "7f0a2f7f-a210-482d-a960-0cd0085139df",
   "metadata": {},
   "outputs": [
    {
     "name": "stdout",
     "output_type": "stream",
     "text": [
      "Senha:            TECHDAY\n",
      "Texto Original:   Vamos aprender sobre criptografia hoje no Tech Day\n",
      "Chave Gerada:     TECHDAYTECHDAYTECHDAYTECHDAYTECHDAYTECHDAYTECHDAYT\n",
      "Texto Encriptado: Oeovv yivgugep wqiue vvkwwoekehpd fhng qo Mieo Dyr\n"
     ]
    }
   ],
   "source": [
    "texto_original = \"Vamos aprender sobre criptografia hoje no Tech Day\"\n",
    "senha = \"TECHDAY\"\n",
    "\n",
    "print(f\"Senha:            {senha}\")\n",
    "print(f\"Texto Original:   {texto_original}\")\n",
    "print(f\"Chave Gerada:     {gerar_chave(texto_original, senha)}\")\n",
    "\n",
    "texto_encriptado = vigenere_encrypt(texto_original, senha)\n",
    "print(f\"Texto Encriptado: {texto_encriptado}\")\n",
    "\n",
    "# texto_decriptado = vigenere_decrypt(texto_encriptado, chave)\n",
    "# print(f\"Texto Decriptado: {texto_decriptado}\")"
   ]
  },
  {
   "cell_type": "code",
   "execution_count": 3,
   "id": "e916c9e2-bdd6-495b-a695-c942dd8797bb",
   "metadata": {},
   "outputs": [
    {
     "name": "stdout",
     "output_type": "stream",
     "text": [
      "Texto Encriptado: TDSCJYODHILBALCGLVZOHVGPNCSCOWHTRGLOFIZOQLS\n"
     ]
    }
   ],
   "source": [
    "texto_original = \"Essa frase e um placeholder e não vale para o desafio\"\n",
    "senha = \"PLACEHOLDER\"\n",
    "\n",
    "texto_trim = texto_original.replace(' ', '').upper()\n",
    "texto_encriptado = vigenere_encrypt(texto_trim, senha)\n",
    "print(f\"Texto Encriptado: {texto_encriptado}\")"
   ]
  }
 ],
 "metadata": {
  "kernelspec": {
   "display_name": "Python 3 (ipykernel)",
   "language": "python",
   "name": "python3"
  },
  "language_info": {
   "codemirror_mode": {
    "name": "ipython",
    "version": 3
   },
   "file_extension": ".py",
   "mimetype": "text/x-python",
   "name": "python",
   "nbconvert_exporter": "python",
   "pygments_lexer": "ipython3",
   "version": "3.11.3"
  }
 },
 "nbformat": 4,
 "nbformat_minor": 5
}
