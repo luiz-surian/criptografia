{
 "cells": [
  {
   "cell_type": "markdown",
   "id": "8e395f02-c0c9-499e-aca5-00a4bdffdc71",
   "metadata": {},
   "source": [
    "# Análise de Frequência"
   ]
  },
  {
   "cell_type": "code",
   "execution_count": 1,
   "id": "905d0895-a073-4653-bf11-98ea83bde2bc",
   "metadata": {},
   "outputs": [],
   "source": [
    "def analise_frequencia(texto):\n",
    "    letras = {}\n",
    "    # Verifica cada caractere do texto individualmente.\n",
    "    for c in texto:\n",
    "        # Verifica se o caractere é uma letra, ignorando números e caracteres especiais.\n",
    "        if((c >= 'a' and c<='z') or (c >= 'A' and c<= 'Z') ):\n",
    "            c = c.lower()\n",
    "            # Conta as ocorrências.\n",
    "            if(letras.get(c) != None):\n",
    "                letras[c] +=1\n",
    "            else:\n",
    "                letras[c] = 1\n",
    "    return letras\n",
    "\n",
    "def ordena_ocorrencia(letras):\n",
    "    # Retorna ordenado de maior ocorrências para menor.\n",
    "    return sorted(letras.items(), key=lambda x:x[1], reverse=True)"
   ]
  },
  {
   "cell_type": "code",
   "execution_count": 2,
   "id": "5184f72d-642f-4183-9fb3-0bd3b6fb8309",
   "metadata": {},
   "outputs": [],
   "source": [
    "frase = \"Vamos aprender sobre criptografia hoje no Tech Day\""
   ]
  },
  {
   "cell_type": "code",
   "execution_count": 3,
   "id": "1dfbcc0c-52a5-406c-bba1-20427d2c9c54",
   "metadata": {},
   "outputs": [
    {
     "name": "stdout",
     "output_type": "stream",
     "text": [
      "[('a', 5), ('o', 5), ('r', 5), ('e', 5), ('s', 2), ('p', 2), ('n', 2), ('d', 2), ('c', 2), ('i', 2), ('t', 2), ('h', 2), ('v', 1), ('m', 1), ('b', 1), ('g', 1), ('f', 1), ('j', 1), ('y', 1)]\n"
     ]
    }
   ],
   "source": [
    "print(ordena_ocorrencia(analise_frequencia(frase)))"
   ]
  },
  {
   "cell_type": "code",
   "execution_count": 4,
   "id": "fde96ea1-c3c6-4e31-b898-c6e67754a87e",
   "metadata": {},
   "outputs": [],
   "source": [
    "def txt_para_string(arquivo):\n",
    "    with open(arquivo, 'r', encoding='utf-8') as file:\n",
    "        content = file.read()\n",
    "    return content"
   ]
  },
  {
   "cell_type": "code",
   "execution_count": 5,
   "id": "f7056d52-098d-4e0d-ba20-d65744cc2aaa",
   "metadata": {},
   "outputs": [
    {
     "name": "stdout",
     "output_type": "stream",
     "text": [
      "[('a', 1902), ('e', 1856), ('o', 1604), ('s', 1255), ('r', 916), ('i', 734), ('n', 719), ('d', 695), ('u', 688), ('t', 654), ('m', 637), ('l', 431), ('c', 403), ('p', 336), ('v', 280), ('q', 192), ('h', 185), ('b', 155), ('g', 148), ('f', 147), ('z', 71), ('j', 50), ('x', 22), ('w', 4)]\n"
     ]
    }
   ],
   "source": [
    "olavo_bilac = analise_frequencia(txt_para_string('../referencia/via_lactea_olavo_bilac.txt'))\n",
    "print(ordena_ocorrencia(olavo_bilac))"
   ]
  },
  {
   "cell_type": "code",
   "execution_count": 6,
   "id": "cb1f16a4-8cc0-4c0d-9656-cecdfcd78ee5",
   "metadata": {},
   "outputs": [
    {
     "name": "stdout",
     "output_type": "stream",
     "text": [
      "[('a', 861), ('e', 672), ('o', 606), ('s', 391), ('r', 384), ('i', 379), ('n', 301), ('u', 301), ('d', 278), ('t', 257), ('m', 229), ('c', 209), ('l', 175), ('p', 154), ('h', 121), ('v', 97), ('g', 82), ('q', 58), ('b', 51), ('f', 49), ('z', 18), ('j', 16), ('x', 8), ('w', 4)]\n"
     ]
    }
   ],
   "source": [
    "machado_assis = analise_frequencia(txt_para_string('../referencia/a_carteira_machado_de_assis.txt'))\n",
    "print(ordena_ocorrencia(machado_assis))"
   ]
  },
  {
   "cell_type": "code",
   "execution_count": 7,
   "id": "fa59df29-2e44-4f10-9ff0-719a24eb192b",
   "metadata": {},
   "outputs": [
    {
     "data": {
      "image/png": "[encoded data removed]",
      "text/plain": [
       "<Figure size 640x480 with 1 Axes>"
      ]
     },
     "metadata": {},
     "output_type": "display_data"
    }
   ],
   "source": [
    "import matplotlib.pyplot as plt\n",
    "\n",
    "def plot_histogram(dictionary):\n",
    "    sorted_items = sorted(dictionary.items(), key=lambda item: item[1], reverse=True)\n",
    "    keys = [item[0].upper() for item in sorted_items]\n",
    "    values = [item[1] for item in sorted_items]\n",
    "\n",
    "    plt.bar(keys, values)\n",
    "    plt.xlabel('Letras')\n",
    "    plt.ylabel('Vezes que aparece')\n",
    "    plt.title('Histograma das letras mais usadas')\n",
    "    plt.show()\n",
    "\n",
    "# Vamos combinar as duas análises em um único dicionário.\n",
    "frequencia_pt_br = olavo_bilac | machado_assis\n",
    "# E plotar em um gráfico o número de ocorrências.\n",
    "plot_histogram(frequencia_pt_br)"
   ]
  },
  {
   "cell_type": "code",
   "execution_count": 8,
   "id": "06fec1d2-ba29-4cd5-a936-b871e61b89dc",
   "metadata": {},
   "outputs": [
    {
     "name": "stdout",
     "output_type": "stream",
     "text": [
      "A chave aleatória:  18\n",
      "Mensagem Original:  Vamos aprender sobre criptografia hoje no Tech Day\n",
      "Mensagem Encriptada:  Nsegk shjwfvwj kgtjw ujahlgyjsxas zgbw fg Lwuz Vsq\n",
      "Maior ocorrência na mensagem encriptada:  s\n",
      "A distância calculada:  18\n",
      "A mensagem decriptada:  Vamos aprender sobre criptografia hoje no Tech Day\n"
     ]
    }
   ],
   "source": [
    "# Escolhendo uma chave aleatória.\n",
    "import random\n",
    "chave = random.randint(1, 25)\n",
    "\n",
    "# Encriptando com a Cifra de César na mensagem.\n",
    "from helper_functions import *\n",
    "mensagem_encriptada = cesar_encrypt(frase, chave)\n",
    "\n",
    "# Analisando a frequência de letras na mensagem encriptada.\n",
    "frequencia_mensagem = analise_frequencia(mensagem_encriptada)\n",
    "\n",
    "# Comparando as letras mais comuns da mensagem encriptada com as da lingua portuguesa.\n",
    "maior_ocorrencia_mensagem = ordena_ocorrencia(frequencia_mensagem)[0][0]\n",
    "maior_ocorrencia_pt_br = ordena_ocorrencia(frequencia_pt_br)[0][0]\n",
    "\n",
    "# Calcula a distância entre elas.\n",
    "distancia = abs( ord(maior_ocorrencia_mensagem) - ord(maior_ocorrencia_pt_br) )\n",
    "\n",
    "print(\"A chave aleatória: \", chave)\n",
    "print(\"Mensagem Original: \", frase)\n",
    "print(\"Mensagem Encriptada: \", mensagem_encriptada)\n",
    "print(\"Maior ocorrência na mensagem encriptada: \", maior_ocorrencia_mensagem)\n",
    "print(\"A distância calculada: \", distancia)\n",
    "print(\"A mensagem decriptada: \", cesar_decrypt(mensagem_encriptada, distancia))"
   ]
  }
 ],
 "metadata": {
  "kernelspec": {
   "display_name": "Python 3 (ipykernel)",
   "language": "python",
   "name": "python3"
  },
  "language_info": {
   "codemirror_mode": {
    "name": "ipython",
    "version": 3
   },
   "file_extension": ".py",
   "mimetype": "text/x-python",
   "name": "python",
   "nbconvert_exporter": "python",
   "pygments_lexer": "ipython3",
   "version": "3.11.3"
  }
 },
 "nbformat": 4,
 "nbformat_minor": 5
}
