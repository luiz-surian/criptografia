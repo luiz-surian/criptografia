{
 "cells": [
  {
   "cell_type": "markdown",
   "id": "e00ae717-9aac-40bd-9054-7e5cbd97669f",
   "metadata": {},
   "source": [
    "# Advanced Encryption Standard"
   ]
  },
  {
   "cell_type": "markdown",
   "id": "ad12e8da-239d-4792-84ef-725eafe96514",
   "metadata": {},
   "source": [
    "Esse código ilustra o processo de criptografia usando algoritmo AES.  \n",
    "AES é um algoritmo de criptografia simétrica amplamente utilizado.  \n",
    "Ele opera em blocos de 128 bits e suporta chaves de 128, 192 ou 256 bits.  "
   ]
  },
  {
   "cell_type": "code",
   "execution_count": 1,
   "id": "772d3c61-59c7-479f-b984-6e36dde9e9ad",
   "metadata": {},
   "outputs": [],
   "source": [
    "import os\n",
    "from cryptography.hazmat.primitives.ciphers import Cipher, algorithms, modes\n",
    "\n",
    "\n",
    "# PKCS7 Padding\n",
    "# O padding é utilizado para garantir que os dados tenham um tamanho\n",
    "# que seja um múltiplo do tamanho do bloco de cifra.\n",
    "def pad(data):\n",
    "    # Calcula a quantidade de bytes necessários\n",
    "    # para fazer o dado ser um múltiplo de 16.\n",
    "    padding_length = 16 - len(data) % 16\n",
    "    # Cria um array de bytes com o valor do comprimento do padding.\n",
    "    padding = bytes([padding_length] * padding_length)\n",
    "    return data + padding\n",
    "\n",
    "\n",
    "def unpad(data):\n",
    "    # Verifica quantos bytes de padding foram adicionados.\n",
    "    padding_length = data[-1]\n",
    "    # Verifica se o padding é válido.\n",
    "    if padding_length < 1 or padding_length > 16:\n",
    "        raise ValueError(\"Padding Inválido\")\n",
    "    return data[:-padding_length]\n",
    "\n",
    "\n",
    "def encrypt_file(input_file, output_file):\n",
    "    key = os.urandom(32)\n",
    "    iv = os.urandom(16)\n",
    "    cipher = Cipher(algorithms.AES(key), modes.CBC(iv))\n",
    "    encryptor = cipher.encryptor()\n",
    "    try:\n",
    "        with open(input_file, 'rb') as f:\n",
    "            plaintext = f.read()\n",
    "        padded_plaintext = pad(plaintext)\n",
    "        ciphertext = encryptor.update(padded_plaintext) + encryptor.finalize()\n",
    "        with open(output_file, 'wb') as f:\n",
    "            f.write(ciphertext)\n",
    "        encoded_key = key.hex()\n",
    "        encoded_iv = iv.hex()\n",
    "        return encoded_key, encoded_iv\n",
    "    except Exception as e:\n",
    "        print(f\"Um erro ocorreu durante a encriptação: {e}\")\n",
    "        return None, None\n",
    "\n",
    "\n",
    "def decrypt_file(key, iv, input_file, output_file):\n",
    "    try:\n",
    "        decoded_key = bytes.fromhex(key)\n",
    "        iv_bytes = bytes.fromhex(iv)\n",
    "        if len(decoded_key) != 32:\n",
    "            raise ValueError(\"Incorrect AES key length\")\n",
    "        cipher = Cipher(algorithms.AES(decoded_key), modes.CBC(iv_bytes))\n",
    "        decryptor = cipher.decryptor()\n",
    "        with open(input_file, 'rb') as f:\n",
    "            encrypted_data = f.read()\n",
    "        decrypted_data = decryptor.update(encrypted_data) + decryptor.finalize()\n",
    "        with open(output_file, 'wb') as f:\n",
    "            f.write(decrypted_data)\n",
    "    except Exception as e:\n",
    "        print(f\"Um erro ocorreu durante a encriptação: {e}\")"
   ]
  },
  {
   "cell_type": "code",
   "execution_count": 2,
   "id": "2ab0ed97-96f5-4b63-8054-002f7b13d113",
   "metadata": {},
   "outputs": [
    {
     "name": "stdout",
     "output_type": "stream",
     "text": [
      "Arquivo encriptado com sucesso.\n",
      "Chave: 8ef15416b65fd650d195c522041d09d47cb70f2d7bb84d3a54a77b562fbe3228\n",
      "IV: ccabe75af8aee29a45b17e6fd711f6e3\n",
      "Arquivo decriptado com sucesso.\n"
     ]
    }
   ],
   "source": [
    "input_file = \"referencia/via_lactea_olavo_bilac.txt\"\n",
    "encrypted_file = \"referencia/Encrypted_File\"\n",
    "decrypted_file = \"referencia/Decrypted_File.txt\"\n",
    "\n",
    "# Encriptar um arquivo\n",
    "key, iv = encrypt_file(input_file, encrypted_file)\n",
    "if key and iv:\n",
    "    print(\"Arquivo encriptado com sucesso.\")\n",
    "    print(\"Chave:\", key)\n",
    "    print(\"IV:\", iv)\n",
    "    decrypt_file(key, iv, encrypted_file, decrypted_file)\n",
    "    print(\"Arquivo decriptado com sucesso.\")\n",
    "else:\n",
    "    print(\"Encriptação falhou.\")"
   ]
  },
  {
   "cell_type": "code",
   "execution_count": 3,
   "id": "f47d5c0a-02e9-4ccf-8427-7959b8eaffb6",
   "metadata": {},
   "outputs": [
    {
     "name": "stdout",
     "output_type": "stream",
     "text": [
      "Arquivo Decriptado\n",
      "b'# http://www.dominiopublico.gov.br/download/texto/bv000289.pdf\\r\\n# Via-Lactea, de Olavo Bilac\\r\\n\\r\\nTalvez sonhasse, quando a vi. Mas via\\r\\nQue, aos raios do luar iluminada,\\r\\nEntre as estrelas tremulas subia\\r\\nUma infinita e cintilante escada.\\r\\nE eu olhava-a de baixo, olhava-a... Em cada\\r\\nDegrau, que o ouro mais limpido vestia,\\r\\nMudo e sereno, um anjo a harpa dourada,\\r\\nRessoante de suplicas, feria...\\r\\nTu, mae sagrada! Vos tambem, formosas\\r\\nIlusoes! sonhos meus! ieis por ela\\r\\nComo um bando de sombras v'  [...]\n"
     ]
    }
   ],
   "source": [
    "print(\"Arquivo Decriptado\")\n",
    "with open(decrypted_file, 'rb') as file:\n",
    "    file_content = file.read()\n",
    "    print(file_content[:500], ' [...]')"
   ]
  },
  {
   "cell_type": "code",
   "execution_count": 4,
   "id": "ba58e183-9cd8-44a8-99fb-742c02094e49",
   "metadata": {},
   "outputs": [
    {
     "name": "stdout",
     "output_type": "stream",
     "text": [
      "Arquivo Encriptado\n",
      "b'd\\xc6|\\xa5\\xe4O7\\xc8\\xe1\\x05Z\\x16E\\nqr\\xad\\x8c\\xad\\t\\x04\\xae$\\xb6s\\x04{i\\\\l\\x98hH\\x18u&e\\xf3\\xec\\xb2\\xba\\xa7M\\x1aiH>\\xd5\\xe3L\\xe4hC\\x9c\\r*\\xe4\\xc3\\xacv\\xbb\\x1b\\xefj_\\xb1+\\x83\\xcc\\xb7}9\\xdc\\xf7x\\x82sy\\xd9\\x9c\\xedHC\\x16\\xfbP\\xd3\\xe9y\\x12,\\xf2a^\\xe1$\\xf8\\xdf\\xc0\\xe3V\\x93\\xf4\\xf2\\xeeV\\xe5\\xa7]\\x0c\\xf1\\xf5uEu|\\xb5\\x04\\xc8\\x8e\\x10\\x84\\xf5.\\xfd\\xd7\\n\\x9a\\xa6\\x9c\\xfd\\x0f9\\x87\\x8b\\xb1\\xfey\\x0c\\xea|\\xf3\\x8a\\x92\\xd2\\xff\\xfb\\xf15S\\x8b\\xa4\\x19*\\x07\\x89\\xebb\\x80\\xce\\xa3S\\xf6\\xbd\\x19o\"\\xd3\\xdb\\xe4\\xb1\\xfc\\xe0\\xfbA\\xca\\x0cOMr\\xfb\\xd3\\x18\\xc5+\\xc8^\\xaf]D\\xf9\\x9bH0\\x85!)9\\xc9*\\xa4\\x96?\\xbd\\xbd\\x1dV\\x97\\xfa\\x00/\\x85\\x03\\xcfm\\x89\\t\\x86J\\x88<G\\xdb\\x8a\\x11W_5L\\xc1o\\x0f\\x130\\xb5N\\xae\\x07\\xe5\\xce\\x88\\x8a\\xad\\xca\\x1c\\x0c@H?\\x0c\\xd5\\xf7\\x1c\\x02\\xbb\\xf7A\\x06\\xf0\\xf1R\\xe1\\x9f\\xc6#\\xb8\\xeb\\x84\\xd3\\xcdP|\\xeb\\x02\\x1e\\xa4\\xd3\\xce\\xd6%\\x81\\x07\\xd9C\\xce\\xad\\xe3\\xa7\\x18\\x9f\\x8aF\\xf5\\xd8 Z*\\n\\x16\\xc7g5rbA\\xcd\\xc4mb\\xb3\\xb3\\x14|\\x9e\\xd4@\\xc6&\\x90\\xc4M\\x19\\xc7\\n\\x1a\\xd0\\x17I\\xc5\\x9d\\xadz>s\\xe4\\x05\\xfba\\x1csqea\\x03\\xe8\\xbd\\x7frZ\\xcaH3e\\xb2a\\xc4\\x1e\\xa6B\\xb1\\xc8n\\x91\\x88&\\x8d\\'\\xa58]\\x1e<c\\xf2\\xca\\x12.\\xe5\\x86\\'\\r\\xc1\\xca\\xa2\\x9f6,\\x9a\\xbc<^\\xcc\\xb7V\\xdeS\\xe5\\x03\\xb0y1\\xb3\\x8b8\\xa1\\xcb\\xdf\\xff\\xdd\\x86_\\x95\\xf7\\xf1h\\x1bs\\x89\\xe0\\x9a\\xd4\\xe2&\\xed]\\xea\\xfd\\x0b@\\x04\\xc9\\xeba=\\xa2Vc\\xc0\\xa1\\xd8\\xcfk\\x97@)\\xad\\xd3\\xc7\\x83\\xed4u?\\x16\\x8c\\x81&\\x80\\x97T\\x83Rf\\xba\\xc2\\x8b\\x81\\x8d\\xd3\\xa1\\xed[\\x00Y\\xb5ME\\xfc\\xe4G\\xd4\\x0bx\\x86v\\xe8-\\n>\\x0e{2\\xf7\\x94{\\xcfm\\x07\\x93\\x80'  [...]\n"
     ]
    }
   ],
   "source": [
    "print(\"Arquivo Encriptado\")\n",
    "with open(encrypted_file, 'rb') as file:\n",
    "    file_content = file.read()\n",
    "    print(file_content[:500], ' [...]')"
   ]
  }
 ],
 "metadata": {
  "kernelspec": {
   "display_name": "Python 3 (ipykernel)",
   "language": "python",
   "name": "python3"
  },
  "language_info": {
   "codemirror_mode": {
    "name": "ipython",
    "version": 3
   },
   "file_extension": ".py",
   "mimetype": "text/x-python",
   "name": "python",
   "nbconvert_exporter": "python",
   "pygments_lexer": "ipython3",
   "version": "3.11.3"
  }
 },
 "nbformat": 4,
 "nbformat_minor": 5
}
