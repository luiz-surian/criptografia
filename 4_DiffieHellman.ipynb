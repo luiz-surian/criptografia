{
 "cells": [
  {
   "cell_type": "markdown",
   "id": "c4481368-07f3-428e-b0a4-c1efa06b76b7",
   "metadata": {},
   "source": [
    "# Diffie-Hellman"
   ]
  },
  {
   "cell_type": "code",
   "execution_count": 1,
   "id": "938a416d-c091-4f65-a885-4364c0df5d56",
   "metadata": {},
   "outputs": [],
   "source": [
    "# Power function to return value of a^b mod P\n",
    "def power(a, b, p):\n",
    "    if b == 1:\n",
    "        return a\n",
    "    else:\n",
    "        return pow(a, b) % p"
   ]
  },
  {
   "cell_type": "code",
   "execution_count": 2,
   "id": "315e0e24-7307-433c-ae78-7842d635dd48",
   "metadata": {},
   "outputs": [
    {
     "name": "stdout",
     "output_type": "stream",
     "text": [
      "The value of P: 23\n",
      "The value of G: 9\n"
     ]
    }
   ],
   "source": [
    "# Both persons agree upon the public keys G and P\n",
    "# A prime number P is taken\n",
    "P = 23\n",
    "print(\"The value of P:\", P)\n",
    "\n",
    "# A primitive root for P, G is taken\n",
    "G = 9\n",
    "print(\"The value of G:\", G)"
   ]
  },
  {
   "cell_type": "code",
   "execution_count": 3,
   "id": "53f5e718-cc3e-477f-a4c8-e3681e5da40b",
   "metadata": {},
   "outputs": [
    {
     "name": "stdout",
     "output_type": "stream",
     "text": [
      "The private key a for Alice: 4\n"
     ]
    }
   ],
   "source": [
    "# Alice chooses the private key a\n",
    "# a is the chosen private key\n",
    "a = 4\n",
    "print(\"The private key a for Alice:\", a)"
   ]
  },
  {
   "cell_type": "code",
   "execution_count": 4,
   "id": "bf948323-73a9-479d-b41c-cc8ea0a216c8",
   "metadata": {},
   "outputs": [
    {
     "name": "stdout",
     "output_type": "stream",
     "text": [
      "The public key a for Alice: 6\n"
     ]
    }
   ],
   "source": [
    "# Gets the generated public key\n",
    "x = power(G, a, P)\n",
    "print(\"The public key a for Alice:\", x)"
   ]
  },
  {
   "cell_type": "code",
   "execution_count": 5,
   "id": "843ca00c-ec11-4702-a709-b02b3faeebe1",
   "metadata": {},
   "outputs": [
    {
     "name": "stdout",
     "output_type": "stream",
     "text": [
      "The private key b for Bob: 3\n"
     ]
    }
   ],
   "source": [
    "# Bob chooses the private key b\n",
    "# b is the chosen private key\n",
    "b = 3\n",
    "print(\"The private key b for Bob:\", b)"
   ]
  },
  {
   "cell_type": "code",
   "execution_count": 6,
   "id": "c0d50dc5-e519-420c-a1a3-d00dd66e09a6",
   "metadata": {},
   "outputs": [
    {
     "name": "stdout",
     "output_type": "stream",
     "text": [
      "The public key b for Bob: 16\n"
     ]
    }
   ],
   "source": [
    "# Gets the generated public key\n",
    "y = power(G, b, P)\n",
    "print(\"The public key b for Bob:\", y)"
   ]
  },
  {
   "cell_type": "code",
   "execution_count": 7,
   "id": "aaf522d0-202b-4fd9-b2f6-7a682970fcb2",
   "metadata": {},
   "outputs": [
    {
     "name": "stdout",
     "output_type": "stream",
     "text": [
      "Secret key for Alice is: 9\n",
      "Secret key for Bob is: 9\n"
     ]
    }
   ],
   "source": [
    "# Generating the secret key after the exchange of keys\n",
    "ka = power(y, a, P)  # Secret key for Alice\n",
    "kb = power(x, b, P)  # Secret key for Bob\n",
    "\n",
    "print(\"Secret key for Alice is:\", ka)\n",
    "print(\"Secret key for Bob is:\", kb)"
   ]
  },
  {
   "cell_type": "code",
   "execution_count": null,
   "id": "d04e9b8e-a6e3-4a64-9561-34a1fd6157c7",
   "metadata": {},
   "outputs": [],
   "source": []
  }
 ],
 "metadata": {
  "kernelspec": {
   "display_name": "Python 3 (ipykernel)",
   "language": "python",
   "name": "python3"
  },
  "language_info": {
   "codemirror_mode": {
    "name": "ipython",
    "version": 3
   },
   "file_extension": ".py",
   "mimetype": "text/x-python",
   "name": "python",
   "nbconvert_exporter": "python",
   "pygments_lexer": "ipython3",
   "version": "3.11.3"
  }
 },
 "nbformat": 4,
 "nbformat_minor": 5
}
